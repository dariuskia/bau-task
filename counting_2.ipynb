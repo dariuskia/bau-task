{
 "cells": [
  {
   "cell_type": "markdown",
   "metadata": {},
   "source": [
    "# David Bau stream test task\n",
    "### Darius Kianersi\n",
    "\n",
    "Given the following type of prompt, a sufficiently large language model will be able to answer with the correct number.\n",
    "```\n",
    "Count the number of words in the following list that match the given type, and put the numerical answer in parentheses.\n",
    "Type: fruit\n",
    "List: [dog apple cherry bus cat grape bowl]\n",
    "Answer: (\n",
    "```\n",
    "1. create a dataset of several thousand examples like this.\n",
    "2. benchmark some open-weight LMs on solving this task zero-shot (without reasoning tokens)\n",
    "3. for a single model, create a causal mediation analysis experiment (patching from one run to another) to answer: \"is there a hidden state layer that contains a representation of the running count of matching words, while processing the list of words?\""
   ]
  },
  {
   "cell_type": "code",
   "execution_count": 1,
   "metadata": {},
   "outputs": [
    {
     "data": {
      "text/plain": [
       "True"
      ]
     },
     "execution_count": 1,
     "metadata": {},
     "output_type": "execute_result"
    }
   ],
   "source": [
    "import os\n",
    "import json\n",
    "from IPython.display import clear_output\n",
    "from typing import Literal, Type, TypeAlias\n",
    "import random\n",
    "from __future__ import annotations\n",
    "from typing import TypedDict, List, Literal, Any\n",
    "import collections\n",
    "from tqdm import tqdm\n",
    "\n",
    "\n",
    "from openai import OpenAI\n",
    "import pandas as pd\n",
    "from pydantic import BaseModel\n",
    "from dotenv import load_dotenv\n",
    "import torch\n",
    "import matplotlib.pyplot as plt\n",
    "\n",
    "load_dotenv()"
   ]
  },
  {
   "cell_type": "markdown",
   "metadata": {},
   "source": [
    "### 1. Create a dataset of these examples\n",
    "Here's my high-level plan:\n",
    "1. Generate a few word types that are mutually exclusive (this makes it easier to get ground truth values).\n",
    "2. Generate some words for each type.\n",
    "3. Sample a balanced dataset of words and a type, then compute the answer for the given type."
   ]
  },
  {
   "cell_type": "code",
   "execution_count": 90,
   "metadata": {},
   "outputs": [],
   "source": [
    "client = OpenAI()\n",
    "MODEL = \"gpt-4.1\""
   ]
  },
  {
   "cell_type": "code",
   "execution_count": 91,
   "metadata": {},
   "outputs": [],
   "source": [
    "# 1. Structured-output schemas\n",
    "class WordTypeList(BaseModel):\n",
    "    categories: List[str] # e.g. [\"animals\", \"fruits\", \"utensils\"]\n",
    "\n",
    "class Word(BaseModel):\n",
    "    name: str # e.g. \"trumpet\"\n",
    "    word_type: str # e.g. \"musical instruments\"\n",
    "\n",
    "class WordList(BaseModel):\n",
    "    words: List[Word]"
   ]
  },
  {
   "cell_type": "code",
   "execution_count": 92,
   "metadata": {},
   "outputs": [],
   "source": [
    "# 2. Helpers that wrap the chat.completions.parse call\n",
    "def get_word_types(n: int = 6) -> List[str]:\n",
    "    \"\"\"Return mutually-exclusive word categories.\"\"\"\n",
    "    messages = [\n",
    "        {\"role\": \"system\",\n",
    "         \"content\": \"Return a JSON object with one field 'categories' \"\n",
    "                    \"containing a list of mutually-exclusive word types.\"},\n",
    "        {\"role\": \"user\",\n",
    "         \"content\": f\"Generate {n} mutually exclusive word types like \"\n",
    "                    \"'animals', 'fruits', 'utensils'. \"\n",
    "                    \"Do NOT include overlapping concepts.\"}\n",
    "    ]\n",
    "    resp: WordTypeList = client.beta.chat.completions.parse(\n",
    "        model=MODEL,\n",
    "        messages=messages,\n",
    "        response_format=WordTypeList,\n",
    "    )\n",
    "    return json.loads(resp.choices[0].message.content)[\"categories\"]\n",
    "\n",
    "\n",
    "def get_words_for_type(target: str, others: List[str],\n",
    "                       k_min: int = 10, k_max: int = 20) -> List[Word]:\n",
    "    \"\"\"Return Word objects for one category, avoiding overlap with others.\"\"\"\n",
    "    messages = [\n",
    "        {\"role\": \"system\",\n",
    "         \"content\": \"Return a JSON object with one field 'words': \"\n",
    "                    \"a list of objects each having 'name' and 'word_type'.\"},\n",
    "        {\"role\": \"user\",\n",
    "         \"content\": f\"\"\"Generate {k_min}-{k_max} distinct words that are **{target}**.\n",
    "These words must **not** also fit any of the following types:\n",
    "{', '.join(others)}.\n",
    "Return each as an object: \\\"name\\\": <word>, \\\"word_type\\\": \\\"{target}\\\".\n",
    "Exclude plurals if the singular form is already present; no extras.\"\"\",}\n",
    "    ]\n",
    "    resp: WordList = client.beta.chat.completions.parse(\n",
    "        model=MODEL,\n",
    "        messages=messages,\n",
    "        response_format=WordList,\n",
    "    )\n",
    "    return json.loads(resp.choices[0].message.content)[\"words\"]\n",
    "\n",
    "\n",
    "# 3. Build the full dataset\n",
    "def build_dataset() -> List[Word]:\n",
    "    categories = get_word_types()\n",
    "    dataset: List[Word] = []\n",
    "    for t in categories:\n",
    "        others = [o for o in categories if o != t]\n",
    "        dataset.extend(get_words_for_type(t, others))\n",
    "    return dataset\n",
    "\n",
    "\n",
    "# 4. Sample and tally helpers\n",
    "def random_sample(words: List[Word], n: int = 8) -> List[Word]:\n",
    "    return random.sample(words, n)\n",
    "\n",
    "def tally_by_type(words: List[Word]) -> dict[str, int]:\n",
    "    counter = collections.Counter(w[\"word_type\"] for w in words)\n",
    "    return dict(counter)\n"
   ]
  },
  {
   "cell_type": "code",
   "execution_count": 93,
   "metadata": {},
   "outputs": [
    {
     "name": "stdout",
     "output_type": "stream",
     "text": [
      "Generated 118 total words across 6 types.\n",
      "\n",
      " Random sample:\n",
      "      rambutan  —  fruits\n",
      "       Persian  —  languages\n",
      "     ambulance  —  vehicles\n",
      "   rice paddle  —  utensils\n",
      "        zester  —  utensils\n",
      "       apricot  —  fruits\n",
      "         sitar  —  musical instruments\n",
      "    tambourine  —  musical instruments\n",
      "        papaya  —  fruits\n",
      "        cherry  —  fruits\n",
      "          harp  —  musical instruments\n",
      "       panther  —  animals\n",
      "\n",
      " Counts by category:\n",
      "  animals             : 20\n",
      "  fruits              : 20\n",
      "  utensils            : 20\n",
      "  vehicles            : 18\n",
      "  languages           : 20\n",
      "  musical instruments : 20\n"
     ]
    }
   ],
   "source": [
    "all_words = build_dataset()\n",
    "print(f\"Generated {len(all_words)} total words across \"\n",
    "        f\"{len(set(w['word_type'] for w in all_words))} types.\")\n",
    "\n",
    "sample = random_sample(all_words, 12)\n",
    "print(\"\\n Random sample:\")\n",
    "for w in sample:\n",
    "    print(f\"  {w['name']:>12s}  —  {w['word_type']}\")\n",
    "\n",
    "counts = tally_by_type(all_words)\n",
    "print(\"\\n Counts by category:\")\n",
    "for typ, cnt in counts.items():\n",
    "    print(f\"  {typ:<20s}: {cnt}\")\n"
   ]
  },
  {
   "cell_type": "code",
   "execution_count": 105,
   "metadata": {},
   "outputs": [
    {
     "data": {
      "image/png": "[encoded data removed]",
      "text/plain": [
       "<Figure size 1000x600 with 1 Axes>"
      ]
     },
     "metadata": {},
     "output_type": "display_data"
    },
    {
     "data": {
      "image/png": "[encoded data removed]",
      "text/plain": [
       "<Figure size 1000x600 with 1 Axes>"
      ]
     },
     "metadata": {},
     "output_type": "display_data"
    },
    {
     "name": "stdout",
     "output_type": "stream",
     "text": [
      "\n",
      "Total number of samples: 3000\n",
      "\n",
      "Example samples:\n",
      "\n",
      "Type: fruits\n",
      "List: ['grater', 'mango', 'peach', 'apricot', 'papaya', 'scooter', 'skimmer', 'czech']\n",
      "Answer: (4)\n",
      "\n",
      "Type: vehicles\n",
      "List: ['elephant', 'norwegian', 'skimmer', 'rice paddle']\n",
      "Answer: (0)\n",
      "\n",
      "Type: utensils\n",
      "List: ['tram', 'truck', 'grater', 'masher', 'guava']\n",
      "Answer: (2)\n",
      "\n",
      "Type: musical instruments\n",
      "List: ['masher', 'zester', 'violin', 'vietnamese', 'lychee']\n",
      "Answer: (1)\n",
      "\n",
      "Type: musical instruments\n",
      "List: ['cleaver', 'banjo', 'mandolin', 'jeep', 'bicycle', 'marimba']\n",
      "Answer: (3)\n"
     ]
    }
   ],
   "source": [
    "def generate_balanced_samples(all_words, answers_range=(0, 4), samples_per_answer=10):\n",
    "    \"\"\"\n",
    "    Generate balanced samples where:\n",
    "    - Each possible answer (0-4) has the same number of samples\n",
    "    - Each word type has the same number of samples\n",
    "    - For each answer and type combination, generate multiple samples\n",
    "    \"\"\"\n",
    "    # Get all unique types\n",
    "    all_types = list(set(w[\"word_type\"].lower() for w in all_words))\n",
    "    \n",
    "    # Group words by type for easier access\n",
    "    words_by_type = {\n",
    "        t.lower(): [w for w in all_words if w[\"word_type\"].lower() == t.lower()]\n",
    "        for t in all_types\n",
    "    }\n",
    "    \n",
    "    # Store all generated samples\n",
    "    samples = []\n",
    "    \n",
    "    # For each type\n",
    "    for target_type in all_types:\n",
    "        # For each desired answer\n",
    "        for target_answer in range(answers_range[0], answers_range[1] + 1):\n",
    "            # Generate multiple samples for this type-answer combination\n",
    "            for _ in range(samples_per_answer):\n",
    "                # 1. First, decide total list length (should be reasonable given target_answer)\n",
    "                min_len = max(4, target_answer)  # At least 4 words, or enough to fit target_answer\n",
    "                max_len = min(8, target_answer + 4)  # Cap at 8, or target_answer + 4\n",
    "                total_len = random.randint(min_len, max_len)\n",
    "                \n",
    "                # 2. Select target_answer words of the target type\n",
    "                target_words = random.sample(words_by_type[target_type], target_answer)\n",
    "                \n",
    "                # 3. Fill remaining slots with words from other types\n",
    "                remaining_slots = total_len - target_answer\n",
    "                other_words = []\n",
    "                if remaining_slots > 0:\n",
    "                    # Pool of words from other types\n",
    "                    other_types_words = [\n",
    "                        w for w in all_words \n",
    "                        if w[\"word_type\"].lower() != target_type\n",
    "                    ]\n",
    "                    other_words = random.sample(other_types_words, remaining_slots)\n",
    "                \n",
    "                # 4. Combine and shuffle\n",
    "                all_selected_words = target_words + other_words\n",
    "                random.shuffle(all_selected_words)\n",
    "                \n",
    "                # 5. Create the sample\n",
    "                word_list = [w[\"name\"].lower() for w in all_selected_words]\n",
    "                \n",
    "                samples.append({\n",
    "                    \"type\": target_type.lower(),\n",
    "                    \"list\": word_list,\n",
    "                    \"answer\": target_answer\n",
    "                })\n",
    "    \n",
    "    # Shuffle all samples\n",
    "    random.shuffle(samples)\n",
    "    return samples\n",
    "\n",
    "# Test the function\n",
    "samples = generate_balanced_samples(all_words, answers_range=(0, 4), samples_per_answer=100)\n",
    "\n",
    "# Create dataframe and plot distributions\n",
    "df = pd.DataFrame(samples)\n",
    "\n",
    "# Plot distribution by answer\n",
    "plt.figure(figsize=(10, 6))\n",
    "df['answer'].hist(bins=range(df['answer'].min(), df['answer'].max() + 2, 1))\n",
    "plt.title('Distribution of Answers')\n",
    "plt.xlabel('Answer')\n",
    "plt.ylabel('Frequency')\n",
    "plt.show()\n",
    "\n",
    "# Plot distribution by type\n",
    "plt.figure(figsize=(10, 6))\n",
    "type_counts = df['type'].value_counts()\n",
    "type_counts.plot(kind='bar')\n",
    "plt.title('Distribution by Type')\n",
    "plt.xlabel('Type')\n",
    "plt.ylabel('Frequency') \n",
    "plt.xticks(rotation=45)\n",
    "plt.tight_layout()\n",
    "plt.show()\n",
    "\n",
    "\n",
    "# Print basic statistics about the samples\n",
    "print(f\"\\nTotal number of samples: {len(df)}\")\n",
    "# Print a few example samples\n",
    "print(\"\\nExample samples:\")\n",
    "for i, sample in df.head().iterrows():\n",
    "    print(f\"\\nType: {sample['type']}\")\n",
    "    print(f\"List: {sample['list']}\")\n",
    "    print(f\"Answer: ({sample['answer']})\")\n",
    "\n",
    "# Save the dataframe to disk\n",
    "df.to_csv('counting_samples.csv', index=False)"
   ]
  },
  {
   "cell_type": "markdown",
   "metadata": {},
   "source": [
    "### 2. Eval some open-weight models on this task\n",
    "Let's eval GPT-2 as well as Llama-3.1-8B and Llama-3.1-70B.\n",
    "\n",
    "I'll use the Inspect library from UK AISI for GPT-2; however, afaict it doesn't allow for completions, so I'll reformat the prompt to be conversational/a chat."
   ]
  },
  {
   "cell_type": "code",
   "execution_count": 9,
   "metadata": {},
   "outputs": [
    {
     "name": "stdout",
     "output_type": "stream",
     "text": [
      "{'choices': None,\n",
      " 'files': None,\n",
      " 'id': None,\n",
      " 'input': 'Count the number of words in the following list that match the '\n",
      "          'given type, respond with the numerical answer only.\\n'\n",
      "          'Type: fruits\\n'\n",
      "          'List: grater mango peach apricot papaya scooter skimmer czech\\n'\n",
      "          'Answer: ',\n",
      " 'metadata': None,\n",
      " 'sandbox': None,\n",
      " 'setup': None,\n",
      " 'target': '4'}\n"
     ]
    }
   ],
   "source": [
    "from pprint import pprint\n",
    "from inspect_ai.dataset import Sample, csv_dataset\n",
    "from inspect_ai.model import ChatMessageAssistant, ChatMessageSystem, ChatMessageUser\n",
    "\n",
    "CHAT_QUESTION_TEMPLATE = \"\"\"Count the number of words in the following list that match the given type, respond with the numerical answer only.\n",
    "Type: {type}\n",
    "List: {list}\n",
    "Answer: \"\"\"\n",
    "\n",
    "def format_sample_chat(record: dict[str, Any]) -> Sample:\n",
    "    \"\"\"\n",
    "    Formats counting dataset into inspect_ai Sample objects.\n",
    "    \"\"\"\n",
    "    input = CHAT_QUESTION_TEMPLATE.format(type=record[\"type\"], list=\" \".join(eval(record[\"list\"])))\n",
    "    target = str(record[\"answer\"])\n",
    "\n",
    "    # return sample\n",
    "    return Sample(input=input, target=target)\n",
    "\n",
    "dataset = csv_dataset(\"counting_samples.csv\", name=\"Counting\", sample_fields=format_sample_chat)\n",
    "pprint(dataset.samples[0].__dict__)\n"
   ]
  },
  {
   "cell_type": "code",
   "execution_count": 24,
   "metadata": {},
   "outputs": [
    {
     "data": {
      "application/vnd.jupyter.widget-view+json": {
       "model_id": "a6d129f029be485b987ff0ebd9f7cea6",
       "version_major": 2,
       "version_minor": 0
      },
      "text/plain": [
       "Output()"
      ]
     },
     "metadata": {},
     "output_type": "display_data"
    },
    {
     "data": {
      "text/html": [
       "<pre style=\"white-space:pre;overflow-x:auto;line-height:normal;font-family:Menlo,'DejaVu Sans Mono',consolas,'Courier New',monospace\"></pre>\n"
      ],
      "text/plain": []
     },
     "metadata": {},
     "output_type": "display_data"
    }
   ],
   "source": [
    "from inspect_ai import Task, task\n",
    "from inspect_ai import eval as inspect_eval\n",
    "from inspect_ai.scorer import exact\n",
    "from inspect_ai.solver import generate\n",
    "\n",
    "@task\n",
    "def counting_task() -> Task:\n",
    "    return Task(\n",
    "        dataset=dataset,\n",
    "        solver=[generate()],\n",
    "        scorer=exact(),\n",
    "    )\n",
    "\n",
    "# model_name = \"openai/gpt-4o-mini\"\n",
    "model_name = \"hf/openai-community/gpt2\"\n",
    "# model = get_model(model_name, device=\"cuda:0\")\n",
    "results = inspect_eval(counting_task(), model=model_name, max_tokens=1, limit=3000, log_format=\"eval\", log_dir=\"logs\")\n"
   ]
  },
  {
   "cell_type": "markdown",
   "metadata": {},
   "source": [
    "Accuracy is ~0.16%, which is 5 samples out of 3000 counted correctly. GPT-2 is quite small (120M), so we don't expect much better. \n",
    "\n",
    "Let's try Llama-3.1-8B. For this, I'll create my own eval harness using the original completion prompt."
   ]
  },
  {
   "cell_type": "code",
   "execution_count": 2,
   "metadata": {},
   "outputs": [],
   "source": [
    "from dataclasses import dataclass\n",
    "from torch.utils.data import Dataset, DataLoader\n",
    "\n",
    "COMPLETION_QUESTION_TEMPLATE = \"\"\"Count the number of words in the following list that match the given type, and put the numerical answer in parentheses.\n",
    "Type: {type}\n",
    "List: {list}\n",
    "Answer: (\"\"\"\n",
    "device = 'cuda'\n",
    "\n",
    "class CountingDataset(Dataset):\n",
    "    def __init__(self, csv_path):\n",
    "        self.data = pd.read_csv(csv_path)\n",
    "        \n",
    "    def __len__(self):\n",
    "        return len(self.data)\n",
    "        \n",
    "    def __getitem__(self, idx):\n",
    "        row = self.data.iloc[idx]\n",
    "        formatted_prompt = COMPLETION_QUESTION_TEMPLATE.format(type=row[\"type\"], list=\" \".join(eval(row[\"list\"])))\n",
    "        return formatted_prompt, str(row['answer'])\n",
    "\n",
    "def collate_fn(batch, tokenizer):\n",
    "    formatted_prompts, answers = zip(*batch)\n",
    "    x = tokenizer(formatted_prompts, return_tensors=\"pt\", padding=True)\n",
    "    y = tokenizer(answers, add_special_tokens=False, return_tensors=\"pt\")\n",
    "    return x, y\n",
    "\n",
    "dataset = CountingDataset(\"counting_samples.csv\")"
   ]
  },
  {
   "cell_type": "code",
   "execution_count": 3,
   "metadata": {},
   "outputs": [],
   "source": [
    "from functools import partial\n",
    "\n",
    "def eval_model(model, dataset, tokenizer):\n",
    "    dataloader = DataLoader(dataset, batch_size=32, shuffle=True, collate_fn=partial(collate_fn, tokenizer=tokenizer))\n",
    "    total_correct = 0\n",
    "    total_seen = 0\n",
    "    pbar = tqdm(dataloader, total=len(dataset)//dataloader.batch_size)\n",
    "    for x, y in pbar:\n",
    "        with torch.inference_mode():\n",
    "            out = model(input_ids=x['input_ids'].to(device), attention_mask=x['attention_mask'].to(device))\n",
    "            logits = out.logits\n",
    "            probs = logits[:, -1].softmax(dim=-1)\n",
    "            next_toks = torch.argmax(probs, dim=-1, keepdim=True)\n",
    "            total_correct += (next_toks == y['input_ids'].to(device)).sum()\n",
    "            total_seen += len(x['input_ids'])\n",
    "            pbar.set_description(f\"Acc: {total_correct/total_seen:.2%}\")\n",
    "    pbar.close()"
   ]
  },
  {
   "cell_type": "code",
   "execution_count": 4,
   "metadata": {},
   "outputs": [
    {
     "data": {
      "application/vnd.jupyter.widget-view+json": {
       "model_id": "3f899bf85cad41739481f29401fb65c7",
       "version_major": 2,
       "version_minor": 0
      },
      "text/plain": [
       "Loading checkpoint shards:   0%|          | 0/4 [00:00<?, ?it/s]"
      ]
     },
     "metadata": {},
     "output_type": "display_data"
    },
    {
     "name": "stderr",
     "output_type": "stream",
     "text": [
      "Acc: 44.77%: : 94it [00:05, 16.43it/s]                      \n"
     ]
    }
   ],
   "source": [
    "from transformers import AutoTokenizer, AutoModelForCausalLM\n",
    "\n",
    "model_id = \"meta-llama/Meta-Llama-3.1-8B\"\n",
    "tokenizer = AutoTokenizer.from_pretrained(model_id)\n",
    "tokenizer.pad_token = tokenizer.eos_token\n",
    "tokenizer.padding_side = \"left\"\n",
    "llama_8b = AutoModelForCausalLM.from_pretrained(model_id, torch_dtype=torch.float16).to(device)\n",
    "\n",
    "dataloader = DataLoader(dataset, batch_size=32, shuffle=True, collate_fn=partial(collate_fn, tokenizer=tokenizer))\n",
    "\n",
    "eval_model(llama_8b, dataset, tokenizer)"
   ]
  },
  {
   "cell_type": "markdown",
   "metadata": {},
   "source": [
    "44% is much better, especially since this isn't a multiple choice eval — the model sees between 4 and 8 words in each list, so this is better than random guessing based off the list length.\n",
    "\n",
    "However, we'd probably still like a greater accuracy to be confident the circuit exists and the model doesn't just have decent guesswork heuristics. Let's try 70B."
   ]
  },
  {
   "cell_type": "code",
   "execution_count": null,
   "metadata": {},
   "outputs": [
    {
     "data": {
      "application/vnd.jupyter.widget-view+json": {
       "model_id": "4d96cca8fa784481b0dfd514de308d99",
       "version_major": 2,
       "version_minor": 0
      },
      "text/plain": [
       "Loading checkpoint shards:   0%|          | 0/30 [00:00<?, ?it/s]"
      ]
     },
     "metadata": {},
     "output_type": "display_data"
    }
   ],
   "source": [
    "model_id = \"meta-llama/Meta-Llama-3.1-70B\"\n",
    "tokenizer = AutoTokenizer.from_pretrained(model_id)\n",
    "tokenizer.pad_token = tokenizer.eos_token\n",
    "tokenizer.padding_side = \"left\"\n",
    "llama_70b = AutoModelForCausalLM.from_pretrained(model_id, torch_dtype=torch.float16).to(device)"
   ]
  },
  {
   "cell_type": "code",
   "execution_count": 37,
   "metadata": {},
   "outputs": [
    {
     "name": "stderr",
     "output_type": "stream",
     "text": [
      "Acc: 64.87%: : 94it [00:40,  2.34it/s]                      \n"
     ]
    }
   ],
   "source": [
    "eval_model(llama_70b, dataset, tokenizer)"
   ]
  },
  {
   "cell_type": "markdown",
   "metadata": {},
   "source": [
    "### 3. Causal Mediation Analysis\n",
    "I have two ideas for what the circuit might look like:\n",
    "1. Model is keeping a running count of fruits\n",
    "    - Attn is moving the current count from a prev position to current position, updating it (+1) with the MLP\n",
    "    - Final answer attends to last fruit, gets its count\n",
    "2. Model only stores whether each position is a fruit, adds them together at the end\n",
    "    - Attention on a given fruit doesn't move info from previous fruits\n",
    "    - Each position keeps track of whether it's a fruit (0 or 1)\n",
    "    - Final answer attends to all previous fruits, adds them all together in the MLP"
   ]
  },
  {
   "cell_type": "markdown",
   "metadata": {},
   "source": [
    "I unfortunately was not able to complete this section. I ran into several issues trying to activation patch Llama-3.1-70B that I didn't have time to debug.\n",
    "1. I first tried the `nnsight` library with a remote NDIF instance of the model. This worked for the clean and corrupted forward passes; however, when I tried to batch over all of the layers and token positions with `tracer.invoke`, the job would mysteriously get killed without any error message. I suspected this was an OOM, so I refactored the code to iteratively call `tracer.trace` without batching, but this was unusably slow (1 iter/~30m)\n",
    "2. I used on-demand compute to locally serve the model; however, this OOMed in the batched pass, even when iterating over layers and only batching on the token positions.\n",
    "3. I then tried the `transformer_lens` library, but had no luck here either. The model was not sharding across my GPUs properly and failed with device asserts.\n",
    "\n",
    "If given more time, I would have tried first attribution to localize the relevant layers and token positions with only 2 forward passes and 1 backwards pass."
   ]
  },
  {
   "cell_type": "code",
   "execution_count": 2,
   "metadata": {},
   "outputs": [],
   "source": [
    "from transformer_lens import patching\n",
    "from transformer_lens import ActivationCache, HookedTransformer, utils\n",
    "from transformer_lens.components import MLP, Embed, LayerNorm, Unembed\n",
    "from transformer_lens.hook_points import HookPoint\n",
    "from plotly.express import imshow"
   ]
  },
  {
   "cell_type": "code",
   "execution_count": 3,
   "metadata": {},
   "outputs": [
    {
     "data": {
      "application/vnd.jupyter.widget-view+json": {
       "model_id": "4186ba2a9da04322a64f60b0fb1fb751",
       "version_major": 2,
       "version_minor": 0
      },
      "text/plain": [
       "Loading checkpoint shards:   0%|          | 0/30 [00:00<?, ?it/s]"
      ]
     },
     "metadata": {},
     "output_type": "display_data"
    },
    {
     "name": "stderr",
     "output_type": "stream",
     "text": [
      "WARNING:root:With reduced precision, it is advised to use `from_pretrained_no_processing` instead of `from_pretrained`.\n",
      "WARNING:root:You are not using LayerNorm, so the writing weights can't be centered! Skipping\n"
     ]
    },
    {
     "name": "stdout",
     "output_type": "stream",
     "text": [
      "Loaded pretrained model meta-llama/Llama-3.1-70B into HookedTransformer\n"
     ]
    }
   ],
   "source": [
    "model = HookedTransformer.from_pretrained(\n",
    "    \"meta-llama/Llama-3.1-70B\",\n",
    "    dtype=torch.float16,\n",
    "    device='cuda',\n",
    "    n_devices=4,\n",
    ")"
   ]
  },
  {
   "cell_type": "code",
   "execution_count": 4,
   "metadata": {},
   "outputs": [],
   "source": [
    "# device = \"cuda\"\n",
    "device_type = next(iter(model.parameters())).device.type\n",
    "clean_prompt = \"\"\"Count the number of words in the following list that match the given type, and put the numerical answer in parentheses.\n",
    "Type: fruit\n",
    "List: [dog apple cherry bus cat grape bowl]\n",
    "Answer: (\"\"\"\n",
    "corrupted_prompt = \"\"\"Count the number of words in the following list that match the given type, and put the numerical answer in parentheses.\n",
    "Type: fruit\n",
    "List: [dog apple spoon bus cat grape bowl]\n",
    "Answer: (\"\"\"\n",
    "prompts = (clean_prompt, corrupted_prompt)\n",
    "\n",
    "clean_tokens = model.to_tokens(clean_prompt).to(device_type)\n",
    "corrupted_tokens = model.to_tokens(corrupted_prompt).to(device_type)\n",
    "\n",
    "answers = (\"3\", \"2\")\n",
    "answer_tokens = model.to_tokens(answers, prepend_bos=False).cpu()"
   ]
  },
  {
   "cell_type": "code",
   "execution_count": 6,
   "metadata": {},
   "outputs": [
    {
     "ename": "RuntimeError",
     "evalue": "Expected all tensors to be on the same device, but found at least two devices, cuda:1 and cuda:3! (when checking argument for argument mat1 in method wrapper_CUDA_addmm)",
     "output_type": "error",
     "traceback": [
      "\u001b[31m---------------------------------------------------------------------------\u001b[39m",
      "\u001b[31mRuntimeError\u001b[39m                              Traceback (most recent call last)",
      "\u001b[36mCell\u001b[39m\u001b[36m \u001b[39m\u001b[32mIn[6]\u001b[39m\u001b[32m, line 1\u001b[39m\n\u001b[32m----> \u001b[39m\u001b[32m1\u001b[39m clean_logits, clean_cache = \u001b[43mmodel\u001b[49m\u001b[43m.\u001b[49m\u001b[43mrun_with_cache\u001b[49m\u001b[43m(\u001b[49m\u001b[43mclean_tokens\u001b[49m\u001b[43m)\u001b[49m\n\u001b[32m      2\u001b[39m corrupted_logits, corrupted_cache = model.run_with_cache(corrupted_tokens)\n\u001b[32m      4\u001b[39m \u001b[38;5;28;01mdef\u001b[39;00m\u001b[38;5;250m \u001b[39m\u001b[34mlogits_to_ave_logit_diff\u001b[39m(logits, answer_tokens):\n",
      "\u001b[36mFile \u001b[39m\u001b[32m/venv/main/lib/python3.12/site-packages/transformer_lens/HookedTransformer.py:694\u001b[39m, in \u001b[36mHookedTransformer.run_with_cache\u001b[39m\u001b[34m(self, return_cache_object, remove_batch_dim, *model_args, **kwargs)\u001b[39m\n\u001b[32m    677\u001b[39m \u001b[38;5;28;01mdef\u001b[39;00m\u001b[38;5;250m \u001b[39m\u001b[34mrun_with_cache\u001b[39m(\n\u001b[32m    678\u001b[39m     \u001b[38;5;28mself\u001b[39m, *model_args, return_cache_object=\u001b[38;5;28;01mTrue\u001b[39;00m, remove_batch_dim=\u001b[38;5;28;01mFalse\u001b[39;00m, **kwargs\n\u001b[32m    679\u001b[39m ) -> Tuple[\n\u001b[32m   (...)\u001b[39m\u001b[32m    686\u001b[39m     Union[ActivationCache, Dict[\u001b[38;5;28mstr\u001b[39m, torch.Tensor]],\n\u001b[32m    687\u001b[39m ]:\n\u001b[32m    688\u001b[39m \u001b[38;5;250m    \u001b[39m\u001b[33;03m\"\"\"Wrapper around `run_with_cache` in HookedRootModule.\u001b[39;00m\n\u001b[32m    689\u001b[39m \n\u001b[32m    690\u001b[39m \u001b[33;03m    If return_cache_object is True, this will return an ActivationCache object, with a bunch of\u001b[39;00m\n\u001b[32m    691\u001b[39m \u001b[33;03m    useful HookedTransformer specific methods, otherwise it will return a dictionary of\u001b[39;00m\n\u001b[32m    692\u001b[39m \u001b[33;03m    activations as in HookedRootModule.\u001b[39;00m\n\u001b[32m    693\u001b[39m \u001b[33;03m    \"\"\"\u001b[39;00m\n\u001b[32m--> \u001b[39m\u001b[32m694\u001b[39m     out, cache_dict = \u001b[38;5;28;43msuper\u001b[39;49m\u001b[43m(\u001b[49m\u001b[43m)\u001b[49m\u001b[43m.\u001b[49m\u001b[43mrun_with_cache\u001b[49m\u001b[43m(\u001b[49m\n\u001b[32m    695\u001b[39m \u001b[43m        \u001b[49m\u001b[43m*\u001b[49m\u001b[43mmodel_args\u001b[49m\u001b[43m,\u001b[49m\u001b[43m \u001b[49m\u001b[43mremove_batch_dim\u001b[49m\u001b[43m=\u001b[49m\u001b[43mremove_batch_dim\u001b[49m\u001b[43m,\u001b[49m\u001b[43m \u001b[49m\u001b[43m*\u001b[49m\u001b[43m*\u001b[49m\u001b[43mkwargs\u001b[49m\n\u001b[32m    696\u001b[39m \u001b[43m    \u001b[49m\u001b[43m)\u001b[49m\n\u001b[32m    697\u001b[39m     \u001b[38;5;28;01mif\u001b[39;00m return_cache_object:\n\u001b[32m    698\u001b[39m         cache = ActivationCache(cache_dict, \u001b[38;5;28mself\u001b[39m, has_batch_dim=\u001b[38;5;129;01mnot\u001b[39;00m remove_batch_dim)\n",
      "\u001b[36mFile \u001b[39m\u001b[32m/venv/main/lib/python3.12/site-packages/transformer_lens/hook_points.py:569\u001b[39m, in \u001b[36mHookedRootModule.run_with_cache\u001b[39m\u001b[34m(self, names_filter, device, remove_batch_dim, incl_bwd, reset_hooks_end, clear_contexts, pos_slice, *model_args, **model_kwargs)\u001b[39m\n\u001b[32m    555\u001b[39m cache_dict, fwd, bwd = \u001b[38;5;28mself\u001b[39m.get_caching_hooks(\n\u001b[32m    556\u001b[39m     names_filter,\n\u001b[32m    557\u001b[39m     incl_bwd,\n\u001b[32m   (...)\u001b[39m\u001b[32m    560\u001b[39m     pos_slice=pos_slice,\n\u001b[32m    561\u001b[39m )\n\u001b[32m    563\u001b[39m \u001b[38;5;28;01mwith\u001b[39;00m \u001b[38;5;28mself\u001b[39m.hooks(\n\u001b[32m    564\u001b[39m     fwd_hooks=fwd,\n\u001b[32m    565\u001b[39m     bwd_hooks=bwd,\n\u001b[32m    566\u001b[39m     reset_hooks_end=reset_hooks_end,\n\u001b[32m    567\u001b[39m     clear_contexts=clear_contexts,\n\u001b[32m    568\u001b[39m ):\n\u001b[32m--> \u001b[39m\u001b[32m569\u001b[39m     model_out = \u001b[38;5;28;43mself\u001b[39;49m\u001b[43m(\u001b[49m\u001b[43m*\u001b[49m\u001b[43mmodel_args\u001b[49m\u001b[43m,\u001b[49m\u001b[43m \u001b[49m\u001b[43m*\u001b[49m\u001b[43m*\u001b[49m\u001b[43mmodel_kwargs\u001b[49m\u001b[43m)\u001b[49m\n\u001b[32m    570\u001b[39m     \u001b[38;5;28;01mif\u001b[39;00m incl_bwd:\n\u001b[32m    571\u001b[39m         model_out.backward()\n",
      "\u001b[36mFile \u001b[39m\u001b[32m/venv/main/lib/python3.12/site-packages/torch/nn/modules/module.py:1751\u001b[39m, in \u001b[36mModule._wrapped_call_impl\u001b[39m\u001b[34m(self, *args, **kwargs)\u001b[39m\n\u001b[32m   1749\u001b[39m     \u001b[38;5;28;01mreturn\u001b[39;00m \u001b[38;5;28mself\u001b[39m._compiled_call_impl(*args, **kwargs)  \u001b[38;5;66;03m# type: ignore[misc]\u001b[39;00m\n\u001b[32m   1750\u001b[39m \u001b[38;5;28;01melse\u001b[39;00m:\n\u001b[32m-> \u001b[39m\u001b[32m1751\u001b[39m     \u001b[38;5;28;01mreturn\u001b[39;00m \u001b[38;5;28;43mself\u001b[39;49m\u001b[43m.\u001b[49m\u001b[43m_call_impl\u001b[49m\u001b[43m(\u001b[49m\u001b[43m*\u001b[49m\u001b[43margs\u001b[49m\u001b[43m,\u001b[49m\u001b[43m \u001b[49m\u001b[43m*\u001b[49m\u001b[43m*\u001b[49m\u001b[43mkwargs\u001b[49m\u001b[43m)\u001b[49m\n",
      "\u001b[36mFile \u001b[39m\u001b[32m/venv/main/lib/python3.12/site-packages/torch/nn/modules/module.py:1762\u001b[39m, in \u001b[36mModule._call_impl\u001b[39m\u001b[34m(self, *args, **kwargs)\u001b[39m\n\u001b[32m   1757\u001b[39m \u001b[38;5;66;03m# If we don't have any hooks, we want to skip the rest of the logic in\u001b[39;00m\n\u001b[32m   1758\u001b[39m \u001b[38;5;66;03m# this function, and just call forward.\u001b[39;00m\n\u001b[32m   1759\u001b[39m \u001b[38;5;28;01mif\u001b[39;00m \u001b[38;5;129;01mnot\u001b[39;00m (\u001b[38;5;28mself\u001b[39m._backward_hooks \u001b[38;5;129;01mor\u001b[39;00m \u001b[38;5;28mself\u001b[39m._backward_pre_hooks \u001b[38;5;129;01mor\u001b[39;00m \u001b[38;5;28mself\u001b[39m._forward_hooks \u001b[38;5;129;01mor\u001b[39;00m \u001b[38;5;28mself\u001b[39m._forward_pre_hooks\n\u001b[32m   1760\u001b[39m         \u001b[38;5;129;01mor\u001b[39;00m _global_backward_pre_hooks \u001b[38;5;129;01mor\u001b[39;00m _global_backward_hooks\n\u001b[32m   1761\u001b[39m         \u001b[38;5;129;01mor\u001b[39;00m _global_forward_hooks \u001b[38;5;129;01mor\u001b[39;00m _global_forward_pre_hooks):\n\u001b[32m-> \u001b[39m\u001b[32m1762\u001b[39m     \u001b[38;5;28;01mreturn\u001b[39;00m \u001b[43mforward_call\u001b[49m\u001b[43m(\u001b[49m\u001b[43m*\u001b[49m\u001b[43margs\u001b[49m\u001b[43m,\u001b[49m\u001b[43m \u001b[49m\u001b[43m*\u001b[49m\u001b[43m*\u001b[49m\u001b[43mkwargs\u001b[49m\u001b[43m)\u001b[49m\n\u001b[32m   1764\u001b[39m result = \u001b[38;5;28;01mNone\u001b[39;00m\n\u001b[32m   1765\u001b[39m called_always_called_hooks = \u001b[38;5;28mset\u001b[39m()\n",
      "\u001b[36mFile \u001b[39m\u001b[32m/venv/main/lib/python3.12/site-packages/transformer_lens/HookedTransformer.py:630\u001b[39m, in \u001b[36mHookedTransformer.forward\u001b[39m\u001b[34m(self, input, return_type, loss_per_token, prepend_bos, padding_side, start_at_layer, tokens, shortformer_pos_embed, attention_mask, stop_at_layer, past_kv_cache)\u001b[39m\n\u001b[32m    628\u001b[39m     \u001b[38;5;28;01mreturn\u001b[39;00m \u001b[38;5;28;01mNone\u001b[39;00m\n\u001b[32m    629\u001b[39m \u001b[38;5;28;01melse\u001b[39;00m:\n\u001b[32m--> \u001b[39m\u001b[32m630\u001b[39m     logits = \u001b[38;5;28;43mself\u001b[39;49m\u001b[43m.\u001b[49m\u001b[43munembed\u001b[49m\u001b[43m(\u001b[49m\u001b[43mresidual\u001b[49m\u001b[43m)\u001b[49m  \u001b[38;5;66;03m# [batch, pos, d_vocab]\u001b[39;00m\n\u001b[32m    631\u001b[39m     \u001b[38;5;28;01mif\u001b[39;00m \u001b[38;5;28mself\u001b[39m.cfg.output_logits_soft_cap > \u001b[32m0.0\u001b[39m:\n\u001b[32m    632\u001b[39m         logits = \u001b[38;5;28mself\u001b[39m.cfg.output_logits_soft_cap * F.tanh(\n\u001b[32m    633\u001b[39m             logits / \u001b[38;5;28mself\u001b[39m.cfg.output_logits_soft_cap\n\u001b[32m    634\u001b[39m         )\n",
      "\u001b[36mFile \u001b[39m\u001b[32m/venv/main/lib/python3.12/site-packages/torch/nn/modules/module.py:1751\u001b[39m, in \u001b[36mModule._wrapped_call_impl\u001b[39m\u001b[34m(self, *args, **kwargs)\u001b[39m\n\u001b[32m   1749\u001b[39m     \u001b[38;5;28;01mreturn\u001b[39;00m \u001b[38;5;28mself\u001b[39m._compiled_call_impl(*args, **kwargs)  \u001b[38;5;66;03m# type: ignore[misc]\u001b[39;00m\n\u001b[32m   1750\u001b[39m \u001b[38;5;28;01melse\u001b[39;00m:\n\u001b[32m-> \u001b[39m\u001b[32m1751\u001b[39m     \u001b[38;5;28;01mreturn\u001b[39;00m \u001b[38;5;28;43mself\u001b[39;49m\u001b[43m.\u001b[49m\u001b[43m_call_impl\u001b[49m\u001b[43m(\u001b[49m\u001b[43m*\u001b[49m\u001b[43margs\u001b[49m\u001b[43m,\u001b[49m\u001b[43m \u001b[49m\u001b[43m*\u001b[49m\u001b[43m*\u001b[49m\u001b[43mkwargs\u001b[49m\u001b[43m)\u001b[49m\n",
      "\u001b[36mFile \u001b[39m\u001b[32m/venv/main/lib/python3.12/site-packages/torch/nn/modules/module.py:1762\u001b[39m, in \u001b[36mModule._call_impl\u001b[39m\u001b[34m(self, *args, **kwargs)\u001b[39m\n\u001b[32m   1757\u001b[39m \u001b[38;5;66;03m# If we don't have any hooks, we want to skip the rest of the logic in\u001b[39;00m\n\u001b[32m   1758\u001b[39m \u001b[38;5;66;03m# this function, and just call forward.\u001b[39;00m\n\u001b[32m   1759\u001b[39m \u001b[38;5;28;01mif\u001b[39;00m \u001b[38;5;129;01mnot\u001b[39;00m (\u001b[38;5;28mself\u001b[39m._backward_hooks \u001b[38;5;129;01mor\u001b[39;00m \u001b[38;5;28mself\u001b[39m._backward_pre_hooks \u001b[38;5;129;01mor\u001b[39;00m \u001b[38;5;28mself\u001b[39m._forward_hooks \u001b[38;5;129;01mor\u001b[39;00m \u001b[38;5;28mself\u001b[39m._forward_pre_hooks\n\u001b[32m   1760\u001b[39m         \u001b[38;5;129;01mor\u001b[39;00m _global_backward_pre_hooks \u001b[38;5;129;01mor\u001b[39;00m _global_backward_hooks\n\u001b[32m   1761\u001b[39m         \u001b[38;5;129;01mor\u001b[39;00m _global_forward_hooks \u001b[38;5;129;01mor\u001b[39;00m _global_forward_pre_hooks):\n\u001b[32m-> \u001b[39m\u001b[32m1762\u001b[39m     \u001b[38;5;28;01mreturn\u001b[39;00m \u001b[43mforward_call\u001b[49m\u001b[43m(\u001b[49m\u001b[43m*\u001b[49m\u001b[43margs\u001b[49m\u001b[43m,\u001b[49m\u001b[43m \u001b[49m\u001b[43m*\u001b[49m\u001b[43m*\u001b[49m\u001b[43mkwargs\u001b[49m\u001b[43m)\u001b[49m\n\u001b[32m   1764\u001b[39m result = \u001b[38;5;28;01mNone\u001b[39;00m\n\u001b[32m   1765\u001b[39m called_always_called_hooks = \u001b[38;5;28mset\u001b[39m()\n",
      "\u001b[36mFile \u001b[39m\u001b[32m/venv/main/lib/python3.12/site-packages/transformer_lens/components/unembed.py:31\u001b[39m, in \u001b[36mUnembed.forward\u001b[39m\u001b[34m(self, residual)\u001b[39m\n\u001b[32m     28\u001b[39m \u001b[38;5;28;01mdef\u001b[39;00m\u001b[38;5;250m \u001b[39m\u001b[34mforward\u001b[39m(\n\u001b[32m     29\u001b[39m     \u001b[38;5;28mself\u001b[39m, residual: Float[torch.Tensor, \u001b[33m\"\u001b[39m\u001b[33mbatch pos d_model\u001b[39m\u001b[33m\"\u001b[39m]\n\u001b[32m     30\u001b[39m ) -> Float[torch.Tensor, \u001b[33m\"\u001b[39m\u001b[33mbatch pos d_vocab_out\u001b[39m\u001b[33m\"\u001b[39m]:\n\u001b[32m---> \u001b[39m\u001b[32m31\u001b[39m     \u001b[38;5;28;01mreturn\u001b[39;00m \u001b[43mbatch_addmm\u001b[49m\u001b[43m(\u001b[49m\u001b[38;5;28;43mself\u001b[39;49m\u001b[43m.\u001b[49m\u001b[43mb_U\u001b[49m\u001b[43m,\u001b[49m\u001b[43m \u001b[49m\u001b[38;5;28;43mself\u001b[39;49m\u001b[43m.\u001b[49m\u001b[43mW_U\u001b[49m\u001b[43m,\u001b[49m\u001b[43m \u001b[49m\u001b[43mresidual\u001b[49m\u001b[43m)\u001b[49m\n",
      "\u001b[36mFile \u001b[39m\u001b[32m/venv/main/lib/python3.12/site-packages/transformer_lens/utilities/addmm.py:33\u001b[39m, in \u001b[36mbatch_addmm\u001b[39m\u001b[34m(bias, weight, x)\u001b[39m\n\u001b[32m     31\u001b[39m n_output_features = weight.shape[-\u001b[32m1\u001b[39m]\n\u001b[32m     32\u001b[39m size_out = x.size()[:-\u001b[32m1\u001b[39m] + (n_output_features,)\n\u001b[32m---> \u001b[39m\u001b[32m33\u001b[39m x = \u001b[43mvanilla_addmm\u001b[49m\u001b[43m(\u001b[49m\u001b[43mbias\u001b[49m\u001b[43m,\u001b[49m\u001b[43m \u001b[49m\u001b[43mx\u001b[49m\u001b[43m.\u001b[49m\u001b[43mview\u001b[49m\u001b[43m(\u001b[49m\u001b[43m-\u001b[49m\u001b[32;43m1\u001b[39;49m\u001b[43m,\u001b[49m\u001b[43m \u001b[49m\u001b[43mx\u001b[49m\u001b[43m.\u001b[49m\u001b[43msize\u001b[49m\u001b[43m(\u001b[49m\u001b[43m-\u001b[49m\u001b[32;43m1\u001b[39;49m\u001b[43m)\u001b[49m\u001b[43m)\u001b[49m\u001b[43m,\u001b[49m\u001b[43m \u001b[49m\u001b[43mweight\u001b[49m\u001b[43m)\u001b[49m\n\u001b[32m     34\u001b[39m x = x.view(size_out)\n\u001b[32m     35\u001b[39m \u001b[38;5;28;01mreturn\u001b[39;00m x\n",
      "\u001b[36mFile \u001b[39m\u001b[32m/venv/main/lib/python3.12/site-packages/transformer_lens/utilities/addmm.py:18\u001b[39m, in \u001b[36mvanilla_addmm\u001b[39m\u001b[34m(input, mat1, mat2)\u001b[39m\n\u001b[32m      9\u001b[39m \u001b[38;5;28;01mdef\u001b[39;00m\u001b[38;5;250m \u001b[39m\u001b[34mvanilla_addmm\u001b[39m(\n\u001b[32m     10\u001b[39m     \u001b[38;5;28minput\u001b[39m: Float[torch.Tensor, \u001b[33m\"\u001b[39m\u001b[33m... #o\u001b[39m\u001b[33m\"\u001b[39m],  \u001b[38;5;66;03m# Must be broadcastable to \"m o\"\u001b[39;00m\n\u001b[32m     11\u001b[39m     mat1: Float[torch.Tensor, \u001b[33m\"\u001b[39m\u001b[33mm n\u001b[39m\u001b[33m\"\u001b[39m],\n\u001b[32m     12\u001b[39m     mat2: Float[torch.Tensor, \u001b[33m\"\u001b[39m\u001b[33mn o\u001b[39m\u001b[33m\"\u001b[39m],\n\u001b[32m     13\u001b[39m ) -> Float[torch.Tensor, \u001b[33m\"\u001b[39m\u001b[33mm o\u001b[39m\u001b[33m\"\u001b[39m]:\n\u001b[32m     14\u001b[39m \u001b[38;5;250m    \u001b[39m\u001b[33;03m\"\"\"Typechecked version of torch.addmm.\u001b[39;00m\n\u001b[32m     15\u001b[39m \n\u001b[32m     16\u001b[39m \u001b[33;03m    Note that both mat1 and mat2 *must* be 2d matrices.\u001b[39;00m\n\u001b[32m     17\u001b[39m \u001b[33;03m    \"\"\"\u001b[39;00m\n\u001b[32m---> \u001b[39m\u001b[32m18\u001b[39m     \u001b[38;5;28;01mreturn\u001b[39;00m \u001b[43mtorch\u001b[49m\u001b[43m.\u001b[49m\u001b[43maddmm\u001b[49m\u001b[43m(\u001b[49m\u001b[38;5;28;43minput\u001b[39;49m\u001b[43m,\u001b[49m\u001b[43m \u001b[49m\u001b[43mmat1\u001b[49m\u001b[43m,\u001b[49m\u001b[43m \u001b[49m\u001b[43mmat2\u001b[49m\u001b[43m)\u001b[49m\n",
      "\u001b[31mRuntimeError\u001b[39m: Expected all tensors to be on the same device, but found at least two devices, cuda:1 and cuda:3! (when checking argument for argument mat1 in method wrapper_CUDA_addmm)"
     ]
    }
   ],
   "source": [
    "clean_logits, clean_cache = model.run_with_cache(clean_tokens)\n",
    "corrupted_logits, corrupted_cache = model.run_with_cache(corrupted_tokens)\n",
    "\n",
    "def logits_to_ave_logit_diff(logits, answer_tokens):\n",
    "    correct_token, incorrect_token = answer_tokens\n",
    "    return (logits[0, -1, correct_token[0]] - logits[0, -1, incorrect_token[0]]) / 2\n",
    "\n",
    "clean_logit_diff = logits_to_ave_logit_diff(clean_logits, answer_tokens)\n",
    "corrupted_logit_diff = logits_to_ave_logit_diff(corrupted_logits, answer_tokens)\n",
    "\n",
    "def ioi_metric(logits, answer_tokens=answer_tokens, corrupted_logit_diff=corrupted_logit_diff, clean_logit_diff=clean_logit_diff):\n",
    "    patched_logit_diff = logits_to_ave_logit_diff(logits, answer_tokens)\n",
    "    return (patched_logit_diff - corrupted_logit_diff) / (clean_logit_diff - corrupted_logit_diff)"
   ]
  },
  {
   "cell_type": "code",
   "execution_count": 36,
   "metadata": {},
   "outputs": [],
   "source": [
    "clean_logit_diff = torch.tensor(1.28125)\n",
    "corrupted_logit_diff = torch.tensor(-1.69921875)"
   ]
  },
  {
   "cell_type": "code",
   "execution_count": 19,
   "metadata": {},
   "outputs": [
    {
     "data": {
      "text/plain": [
       "(1.28125, -1.69921875)"
      ]
     },
     "execution_count": 19,
     "metadata": {},
     "output_type": "execute_result"
    }
   ],
   "source": [
    "clean_logit_diff.item(), corrupted_logit_diff.item()"
   ]
  },
  {
   "cell_type": "code",
   "execution_count": 47,
   "metadata": {},
   "outputs": [
    {
     "data": {
      "application/vnd.jupyter.widget-view+json": {
       "model_id": "4ddedfb79e2a4bf9a8a0d6cd8b454724",
       "version_major": 2,
       "version_minor": 0
      },
      "text/plain": [
       "  0%|          | 0/3360 [00:00<?, ?it/s]"
      ]
     },
     "metadata": {},
     "output_type": "display_data"
    },
    {
     "ename": "OutOfMemoryError",
     "evalue": "CUDA out of memory. Tried to allocate 20.00 MiB. GPU 0 has a total capacity of 139.83 GiB of which 11.56 MiB is free. Including non-PyTorch memory, this process has 139.80 GiB memory in use. Of the allocated memory 138.93 GiB is allocated by PyTorch, and 216.32 MiB is reserved by PyTorch but unallocated. If reserved but unallocated memory is large try setting PYTORCH_CUDA_ALLOC_CONF=expandable_segments:True to avoid fragmentation.  See documentation for Memory Management  (https://pytorch.org/docs/stable/notes/cuda.html#environment-variables)",
     "output_type": "error",
     "traceback": [
      "\u001b[31m---------------------------------------------------------------------------\u001b[39m",
      "\u001b[31mOutOfMemoryError\u001b[39m                          Traceback (most recent call last)",
      "\u001b[36mCell\u001b[39m\u001b[36m \u001b[39m\u001b[32mIn[47]\u001b[39m\u001b[32m, line 1\u001b[39m\n\u001b[32m----> \u001b[39m\u001b[32m1\u001b[39m act_patch_resid_pre = \u001b[43mpatching\u001b[49m\u001b[43m.\u001b[49m\u001b[43mget_act_patch_resid_pre\u001b[49m\u001b[43m(\u001b[49m\n\u001b[32m      2\u001b[39m \u001b[43m    \u001b[49m\u001b[43mmodel\u001b[49m\u001b[43m=\u001b[49m\u001b[43mmodel\u001b[49m\u001b[43m,\u001b[49m\u001b[43m \u001b[49m\u001b[43mcorrupted_tokens\u001b[49m\u001b[43m=\u001b[49m\u001b[43mcorrupted_tokens\u001b[49m\u001b[43m,\u001b[49m\u001b[43m \u001b[49m\u001b[43mclean_cache\u001b[49m\u001b[43m=\u001b[49m\u001b[43mclean_cache\u001b[49m\u001b[43m,\u001b[49m\u001b[43m \u001b[49m\u001b[43mpatching_metric\u001b[49m\u001b[43m=\u001b[49m\u001b[43mioi_metric\u001b[49m\n\u001b[32m      3\u001b[39m \u001b[43m)\u001b[49m\n\u001b[32m      5\u001b[39m labels = [\u001b[33mf\u001b[39m\u001b[33m\"\u001b[39m\u001b[38;5;132;01m{\u001b[39;00mtok\u001b[38;5;132;01m}\u001b[39;00m\u001b[33m \u001b[39m\u001b[38;5;132;01m{\u001b[39;00mi\u001b[38;5;132;01m}\u001b[39;00m\u001b[33m\"\u001b[39m \u001b[38;5;28;01mfor\u001b[39;00m i, tok \u001b[38;5;129;01min\u001b[39;00m \u001b[38;5;28menumerate\u001b[39m(model.to_str_tokens(clean_tokens[\u001b[32m0\u001b[39m]))]\n\u001b[32m      7\u001b[39m imshow(\n\u001b[32m      8\u001b[39m     act_patch_resid_pre,\n\u001b[32m      9\u001b[39m     labels={\u001b[33m\"\u001b[39m\u001b[33mx\u001b[39m\u001b[33m\"\u001b[39m: \u001b[33m\"\u001b[39m\u001b[33mPosition\u001b[39m\u001b[33m\"\u001b[39m, \u001b[33m\"\u001b[39m\u001b[33my\u001b[39m\u001b[33m\"\u001b[39m: \u001b[33m\"\u001b[39m\u001b[33mLayer\u001b[39m\u001b[33m\"\u001b[39m},\n\u001b[32m   (...)\u001b[39m\u001b[32m     12\u001b[39m     width=\u001b[32m700\u001b[39m,\n\u001b[32m     13\u001b[39m )\n",
      "\u001b[36mFile \u001b[39m\u001b[32m/venv/main/lib/python3.12/site-packages/transformer_lens/patching.py:218\u001b[39m, in \u001b[36mgeneric_activation_patch\u001b[39m\u001b[34m(model, corrupted_tokens, clean_cache, patching_metric, patch_setter, activation_name, index_axis_names, index_df, return_index_df)\u001b[39m\n\u001b[32m    211\u001b[39m current_hook = partial(\n\u001b[32m    212\u001b[39m     patching_hook,\n\u001b[32m    213\u001b[39m     index=index,\n\u001b[32m    214\u001b[39m     clean_activation=clean_cache[current_activation_name],\n\u001b[32m    215\u001b[39m )\n\u001b[32m    217\u001b[39m \u001b[38;5;66;03m# Run the model with the patching hook and get the logits!\u001b[39;00m\n\u001b[32m--> \u001b[39m\u001b[32m218\u001b[39m patched_logits = \u001b[43mmodel\u001b[49m\u001b[43m.\u001b[49m\u001b[43mrun_with_hooks\u001b[49m\u001b[43m(\u001b[49m\n\u001b[32m    219\u001b[39m \u001b[43m    \u001b[49m\u001b[43mcorrupted_tokens\u001b[49m\u001b[43m,\u001b[49m\u001b[43m \u001b[49m\u001b[43mfwd_hooks\u001b[49m\u001b[43m=\u001b[49m\u001b[43m[\u001b[49m\u001b[43m(\u001b[49m\u001b[43mcurrent_activation_name\u001b[49m\u001b[43m,\u001b[49m\u001b[43m \u001b[49m\u001b[43mcurrent_hook\u001b[49m\u001b[43m)\u001b[49m\u001b[43m]\u001b[49m\n\u001b[32m    220\u001b[39m \u001b[43m\u001b[49m\u001b[43m)\u001b[49m\n\u001b[32m    222\u001b[39m \u001b[38;5;66;03m# Calculate the patching metric and store\u001b[39;00m\n\u001b[32m    223\u001b[39m \u001b[38;5;28;01mif\u001b[39;00m flattened_output:\n",
      "\u001b[36mFile \u001b[39m\u001b[32m/venv/main/lib/python3.12/site-packages/transformer_lens/hook_points.py:456\u001b[39m, in \u001b[36mHookedRootModule.run_with_hooks\u001b[39m\u001b[34m(self, fwd_hooks, bwd_hooks, reset_hooks_end, clear_contexts, *model_args, **model_kwargs)\u001b[39m\n\u001b[32m    451\u001b[39m     logging.warning(\n\u001b[32m    452\u001b[39m         \u001b[33m\"\u001b[39m\u001b[33mWARNING: Hooks will be reset at the end of run_with_hooks. This removes the backward hooks before a backward pass can occur.\u001b[39m\u001b[33m\"\u001b[39m\n\u001b[32m    453\u001b[39m     )\n\u001b[32m    455\u001b[39m \u001b[38;5;28;01mwith\u001b[39;00m \u001b[38;5;28mself\u001b[39m.hooks(fwd_hooks, bwd_hooks, reset_hooks_end, clear_contexts) \u001b[38;5;28;01mas\u001b[39;00m hooked_model:\n\u001b[32m--> \u001b[39m\u001b[32m456\u001b[39m     \u001b[38;5;28;01mreturn\u001b[39;00m \u001b[43mhooked_model\u001b[49m\u001b[43m.\u001b[49m\u001b[43mforward\u001b[49m\u001b[43m(\u001b[49m\u001b[43m*\u001b[49m\u001b[43mmodel_args\u001b[49m\u001b[43m,\u001b[49m\u001b[43m \u001b[49m\u001b[43m*\u001b[49m\u001b[43m*\u001b[49m\u001b[43mmodel_kwargs\u001b[49m\u001b[43m)\u001b[49m\n",
      "\u001b[36mFile \u001b[39m\u001b[32m/venv/main/lib/python3.12/site-packages/transformer_lens/HookedTransformer.py:612\u001b[39m, in \u001b[36mHookedTransformer.forward\u001b[39m\u001b[34m(self, input, return_type, loss_per_token, prepend_bos, padding_side, start_at_layer, tokens, shortformer_pos_embed, attention_mask, stop_at_layer, past_kv_cache)\u001b[39m\n\u001b[32m    607\u001b[39m     \u001b[38;5;28;01mif\u001b[39;00m shortformer_pos_embed \u001b[38;5;129;01mis\u001b[39;00m \u001b[38;5;129;01mnot\u001b[39;00m \u001b[38;5;28;01mNone\u001b[39;00m:\n\u001b[32m    608\u001b[39m         shortformer_pos_embed = shortformer_pos_embed.to(\n\u001b[32m    609\u001b[39m             devices.get_device_for_block_index(i, \u001b[38;5;28mself\u001b[39m.cfg)\n\u001b[32m    610\u001b[39m         )\n\u001b[32m--> \u001b[39m\u001b[32m612\u001b[39m     residual = \u001b[43mblock\u001b[49m\u001b[43m(\u001b[49m\n\u001b[32m    613\u001b[39m \u001b[43m        \u001b[49m\u001b[43mresidual\u001b[49m\u001b[43m,\u001b[49m\n\u001b[32m    614\u001b[39m \u001b[43m        \u001b[49m\u001b[38;5;66;43;03m# Cache contains a list of HookedTransformerKeyValueCache objects, one for each\u001b[39;49;00m\n\u001b[32m    615\u001b[39m \u001b[43m        \u001b[49m\u001b[38;5;66;43;03m# block\u001b[39;49;00m\n\u001b[32m    616\u001b[39m \u001b[43m        \u001b[49m\u001b[43mpast_kv_cache_entry\u001b[49m\u001b[43m=\u001b[49m\u001b[43mpast_kv_cache\u001b[49m\u001b[43m[\u001b[49m\u001b[43mi\u001b[49m\u001b[43m]\u001b[49m\u001b[43m \u001b[49m\u001b[38;5;28;43;01mif\u001b[39;49;00m\u001b[43m \u001b[49m\u001b[43mpast_kv_cache\u001b[49m\u001b[43m \u001b[49m\u001b[38;5;129;43;01mis\u001b[39;49;00m\u001b[43m \u001b[49m\u001b[38;5;129;43;01mnot\u001b[39;49;00m\u001b[43m \u001b[49m\u001b[38;5;28;43;01mNone\u001b[39;49;00m\u001b[43m \u001b[49m\u001b[38;5;28;43;01melse\u001b[39;49;00m\u001b[43m \u001b[49m\u001b[38;5;28;43;01mNone\u001b[39;49;00m\u001b[43m,\u001b[49m\n\u001b[32m    617\u001b[39m \u001b[43m        \u001b[49m\u001b[43mshortformer_pos_embed\u001b[49m\u001b[43m=\u001b[49m\u001b[43mshortformer_pos_embed\u001b[49m\u001b[43m,\u001b[49m\n\u001b[32m    618\u001b[39m \u001b[43m        \u001b[49m\u001b[43mattention_mask\u001b[49m\u001b[43m=\u001b[49m\u001b[43mattention_mask\u001b[49m\u001b[43m,\u001b[49m\n\u001b[32m    619\u001b[39m \u001b[43m    \u001b[49m\u001b[43m)\u001b[49m  \u001b[38;5;66;03m# [batch, pos, d_model]\u001b[39;00m\n\u001b[32m    621\u001b[39m \u001b[38;5;28;01mif\u001b[39;00m stop_at_layer \u001b[38;5;129;01mis\u001b[39;00m \u001b[38;5;129;01mnot\u001b[39;00m \u001b[38;5;28;01mNone\u001b[39;00m:\n\u001b[32m    622\u001b[39m     \u001b[38;5;66;03m# When we stop at an early layer, we end here rather than doing further computation\u001b[39;00m\n\u001b[32m    623\u001b[39m     \u001b[38;5;28;01mreturn\u001b[39;00m residual\n",
      "\u001b[36mFile \u001b[39m\u001b[32m/venv/main/lib/python3.12/site-packages/torch/nn/modules/module.py:1739\u001b[39m, in \u001b[36mModule._wrapped_call_impl\u001b[39m\u001b[34m(self, *args, **kwargs)\u001b[39m\n\u001b[32m   1737\u001b[39m     \u001b[38;5;28;01mreturn\u001b[39;00m \u001b[38;5;28mself\u001b[39m._compiled_call_impl(*args, **kwargs)  \u001b[38;5;66;03m# type: ignore[misc]\u001b[39;00m\n\u001b[32m   1738\u001b[39m \u001b[38;5;28;01melse\u001b[39;00m:\n\u001b[32m-> \u001b[39m\u001b[32m1739\u001b[39m     \u001b[38;5;28;01mreturn\u001b[39;00m \u001b[38;5;28;43mself\u001b[39;49m\u001b[43m.\u001b[49m\u001b[43m_call_impl\u001b[49m\u001b[43m(\u001b[49m\u001b[43m*\u001b[49m\u001b[43margs\u001b[49m\u001b[43m,\u001b[49m\u001b[43m \u001b[49m\u001b[43m*\u001b[49m\u001b[43m*\u001b[49m\u001b[43mkwargs\u001b[49m\u001b[43m)\u001b[49m\n",
      "\u001b[36mFile \u001b[39m\u001b[32m/venv/main/lib/python3.12/site-packages/torch/nn/modules/module.py:1750\u001b[39m, in \u001b[36mModule._call_impl\u001b[39m\u001b[34m(self, *args, **kwargs)\u001b[39m\n\u001b[32m   1745\u001b[39m \u001b[38;5;66;03m# If we don't have any hooks, we want to skip the rest of the logic in\u001b[39;00m\n\u001b[32m   1746\u001b[39m \u001b[38;5;66;03m# this function, and just call forward.\u001b[39;00m\n\u001b[32m   1747\u001b[39m \u001b[38;5;28;01mif\u001b[39;00m \u001b[38;5;129;01mnot\u001b[39;00m (\u001b[38;5;28mself\u001b[39m._backward_hooks \u001b[38;5;129;01mor\u001b[39;00m \u001b[38;5;28mself\u001b[39m._backward_pre_hooks \u001b[38;5;129;01mor\u001b[39;00m \u001b[38;5;28mself\u001b[39m._forward_hooks \u001b[38;5;129;01mor\u001b[39;00m \u001b[38;5;28mself\u001b[39m._forward_pre_hooks\n\u001b[32m   1748\u001b[39m         \u001b[38;5;129;01mor\u001b[39;00m _global_backward_pre_hooks \u001b[38;5;129;01mor\u001b[39;00m _global_backward_hooks\n\u001b[32m   1749\u001b[39m         \u001b[38;5;129;01mor\u001b[39;00m _global_forward_hooks \u001b[38;5;129;01mor\u001b[39;00m _global_forward_pre_hooks):\n\u001b[32m-> \u001b[39m\u001b[32m1750\u001b[39m     \u001b[38;5;28;01mreturn\u001b[39;00m \u001b[43mforward_call\u001b[49m\u001b[43m(\u001b[49m\u001b[43m*\u001b[49m\u001b[43margs\u001b[49m\u001b[43m,\u001b[49m\u001b[43m \u001b[49m\u001b[43m*\u001b[49m\u001b[43m*\u001b[49m\u001b[43mkwargs\u001b[49m\u001b[43m)\u001b[49m\n\u001b[32m   1752\u001b[39m result = \u001b[38;5;28;01mNone\u001b[39;00m\n\u001b[32m   1753\u001b[39m called_always_called_hooks = \u001b[38;5;28mset\u001b[39m()\n",
      "\u001b[36mFile \u001b[39m\u001b[32m/venv/main/lib/python3.12/site-packages/transformer_lens/components/transformer_block.py:186\u001b[39m, in \u001b[36mTransformerBlock.forward\u001b[39m\u001b[34m(self, resid_pre, shortformer_pos_embed, past_kv_cache_entry, attention_mask)\u001b[39m\n\u001b[32m    182\u001b[39m     mlp_in = (\n\u001b[32m    183\u001b[39m         resid_mid \u001b[38;5;28;01mif\u001b[39;00m \u001b[38;5;129;01mnot\u001b[39;00m \u001b[38;5;28mself\u001b[39m.cfg.use_hook_mlp_in \u001b[38;5;28;01melse\u001b[39;00m \u001b[38;5;28mself\u001b[39m.hook_mlp_in(resid_mid.clone())\n\u001b[32m    184\u001b[39m     )\n\u001b[32m    185\u001b[39m     normalized_resid_mid = \u001b[38;5;28mself\u001b[39m.ln2(mlp_in)\n\u001b[32m--> \u001b[39m\u001b[32m186\u001b[39m     mlp_out = \u001b[38;5;28;43mself\u001b[39;49m\u001b[43m.\u001b[49m\u001b[43mapply_mlp\u001b[49m\u001b[43m(\u001b[49m\u001b[43mnormalized_resid_mid\u001b[49m\u001b[43m)\u001b[49m\n\u001b[32m    187\u001b[39m     resid_post = \u001b[38;5;28mself\u001b[39m.hook_resid_post(resid_mid + mlp_out)  \u001b[38;5;66;03m# [batch, pos, d_model]\u001b[39;00m\n\u001b[32m    188\u001b[39m \u001b[38;5;28;01melif\u001b[39;00m \u001b[38;5;28mself\u001b[39m.cfg.parallel_attn_mlp:\n\u001b[32m    189\u001b[39m     \u001b[38;5;66;03m# Dumb thing done by GPT-J, both MLP and Attn read from resid_pre and write to resid_post, no resid_mid used.\u001b[39;00m\n\u001b[32m    190\u001b[39m     \u001b[38;5;66;03m# In GPT-J, LN1 and LN2 are tied, in GPT-NeoX they aren't.\u001b[39;00m\n",
      "\u001b[36mFile \u001b[39m\u001b[32m/venv/main/lib/python3.12/site-packages/transformer_lens/components/transformer_block.py:210\u001b[39m, in \u001b[36mTransformerBlock.apply_mlp\u001b[39m\u001b[34m(self, normalized_resid)\u001b[39m\n\u001b[32m    202\u001b[39m \u001b[38;5;28;01mdef\u001b[39;00m\u001b[38;5;250m \u001b[39m\u001b[34mapply_mlp\u001b[39m(\n\u001b[32m    203\u001b[39m     \u001b[38;5;28mself\u001b[39m, normalized_resid: Float[torch.Tensor, \u001b[33m\"\u001b[39m\u001b[33mbatch pos d_model\u001b[39m\u001b[33m\"\u001b[39m]\n\u001b[32m    204\u001b[39m ) -> Float[torch.Tensor, \u001b[33m\"\u001b[39m\u001b[33mbatch pos d_model\u001b[39m\u001b[33m\"\u001b[39m]:\n\u001b[32m    205\u001b[39m \u001b[38;5;250m    \u001b[39m\u001b[33;03m\"\"\"Centralized point where the MLP is applied to the forward pass\u001b[39;00m\n\u001b[32m    206\u001b[39m \n\u001b[32m    207\u001b[39m \u001b[33;03m    Returns:\u001b[39;00m\n\u001b[32m    208\u001b[39m \u001b[33;03m        Float[torch.Tensor, \"batch pos d_model\"]: Our resulting tensor\u001b[39;00m\n\u001b[32m    209\u001b[39m \u001b[33;03m    \"\"\"\u001b[39;00m\n\u001b[32m--> \u001b[39m\u001b[32m210\u001b[39m     mlp_out = \u001b[38;5;28;43mself\u001b[39;49m\u001b[43m.\u001b[49m\u001b[43mmlp\u001b[49m\u001b[43m(\u001b[49m\u001b[43mnormalized_resid\u001b[49m\u001b[43m)\u001b[49m  \u001b[38;5;66;03m# [batch, pos, d_model]\u001b[39;00m\n\u001b[32m    211\u001b[39m     \u001b[38;5;28;01mif\u001b[39;00m \u001b[38;5;28mself\u001b[39m.cfg.use_normalization_before_and_after:\n\u001b[32m    212\u001b[39m         mlp_out = \u001b[38;5;28mself\u001b[39m.ln2_post(mlp_out)\n",
      "\u001b[36mFile \u001b[39m\u001b[32m/venv/main/lib/python3.12/site-packages/torch/nn/modules/module.py:1739\u001b[39m, in \u001b[36mModule._wrapped_call_impl\u001b[39m\u001b[34m(self, *args, **kwargs)\u001b[39m\n\u001b[32m   1737\u001b[39m     \u001b[38;5;28;01mreturn\u001b[39;00m \u001b[38;5;28mself\u001b[39m._compiled_call_impl(*args, **kwargs)  \u001b[38;5;66;03m# type: ignore[misc]\u001b[39;00m\n\u001b[32m   1738\u001b[39m \u001b[38;5;28;01melse\u001b[39;00m:\n\u001b[32m-> \u001b[39m\u001b[32m1739\u001b[39m     \u001b[38;5;28;01mreturn\u001b[39;00m \u001b[38;5;28;43mself\u001b[39;49m\u001b[43m.\u001b[49m\u001b[43m_call_impl\u001b[49m\u001b[43m(\u001b[49m\u001b[43m*\u001b[49m\u001b[43margs\u001b[49m\u001b[43m,\u001b[49m\u001b[43m \u001b[49m\u001b[43m*\u001b[49m\u001b[43m*\u001b[49m\u001b[43mkwargs\u001b[49m\u001b[43m)\u001b[49m\n",
      "\u001b[36mFile \u001b[39m\u001b[32m/venv/main/lib/python3.12/site-packages/torch/nn/modules/module.py:1750\u001b[39m, in \u001b[36mModule._call_impl\u001b[39m\u001b[34m(self, *args, **kwargs)\u001b[39m\n\u001b[32m   1745\u001b[39m \u001b[38;5;66;03m# If we don't have any hooks, we want to skip the rest of the logic in\u001b[39;00m\n\u001b[32m   1746\u001b[39m \u001b[38;5;66;03m# this function, and just call forward.\u001b[39;00m\n\u001b[32m   1747\u001b[39m \u001b[38;5;28;01mif\u001b[39;00m \u001b[38;5;129;01mnot\u001b[39;00m (\u001b[38;5;28mself\u001b[39m._backward_hooks \u001b[38;5;129;01mor\u001b[39;00m \u001b[38;5;28mself\u001b[39m._backward_pre_hooks \u001b[38;5;129;01mor\u001b[39;00m \u001b[38;5;28mself\u001b[39m._forward_hooks \u001b[38;5;129;01mor\u001b[39;00m \u001b[38;5;28mself\u001b[39m._forward_pre_hooks\n\u001b[32m   1748\u001b[39m         \u001b[38;5;129;01mor\u001b[39;00m _global_backward_pre_hooks \u001b[38;5;129;01mor\u001b[39;00m _global_backward_hooks\n\u001b[32m   1749\u001b[39m         \u001b[38;5;129;01mor\u001b[39;00m _global_forward_hooks \u001b[38;5;129;01mor\u001b[39;00m _global_forward_pre_hooks):\n\u001b[32m-> \u001b[39m\u001b[32m1750\u001b[39m     \u001b[38;5;28;01mreturn\u001b[39;00m \u001b[43mforward_call\u001b[49m\u001b[43m(\u001b[49m\u001b[43m*\u001b[49m\u001b[43margs\u001b[49m\u001b[43m,\u001b[49m\u001b[43m \u001b[49m\u001b[43m*\u001b[49m\u001b[43m*\u001b[49m\u001b[43mkwargs\u001b[49m\u001b[43m)\u001b[49m\n\u001b[32m   1752\u001b[39m result = \u001b[38;5;28;01mNone\u001b[39;00m\n\u001b[32m   1753\u001b[39m called_always_called_hooks = \u001b[38;5;28mset\u001b[39m()\n",
      "\u001b[36mFile \u001b[39m\u001b[32m/venv/main/lib/python3.12/site-packages/transformer_lens/components/mlps/gated_mlp.py:68\u001b[39m, in \u001b[36mGatedMLP.forward\u001b[39m\u001b[34m(self, x)\u001b[39m\n\u001b[32m     65\u001b[39m     post_act = \u001b[38;5;28mself\u001b[39m.hook_post(\u001b[38;5;28mself\u001b[39m.ln(mid_act))\n\u001b[32m     66\u001b[39m \u001b[38;5;28;01melse\u001b[39;00m:\n\u001b[32m     67\u001b[39m     pre_linear = \u001b[38;5;28mself\u001b[39m.hook_pre_linear(\n\u001b[32m---> \u001b[39m\u001b[32m68\u001b[39m         \u001b[43mtorch\u001b[49m\u001b[43m.\u001b[49m\u001b[43mmatmul\u001b[49m\u001b[43m(\u001b[49m\u001b[43mx\u001b[49m\u001b[43m,\u001b[49m\u001b[43m \u001b[49m\u001b[38;5;28;43mself\u001b[39;49m\u001b[43m.\u001b[49m\u001b[43mW_in\u001b[49m\u001b[43m)\u001b[49m  \u001b[38;5;66;03m# batch pos d_model, d_model d_mlp -> batch pos d_mlp\u001b[39;00m\n\u001b[32m     69\u001b[39m     )\n\u001b[32m     71\u001b[39m     post_act = \u001b[38;5;28mself\u001b[39m.hook_post(\n\u001b[32m     72\u001b[39m         (\u001b[38;5;28mself\u001b[39m.act_fn(pre_act) * pre_linear) + \u001b[38;5;28mself\u001b[39m.b_in\n\u001b[32m     73\u001b[39m     )  \u001b[38;5;66;03m# [batch, pos, d_mlp]\u001b[39;00m\n\u001b[32m     75\u001b[39m \u001b[38;5;28;01mreturn\u001b[39;00m batch_addmm(\u001b[38;5;28mself\u001b[39m.b_out, \u001b[38;5;28mself\u001b[39m.W_out, post_act)\n",
      "\u001b[31mOutOfMemoryError\u001b[39m: CUDA out of memory. Tried to allocate 20.00 MiB. GPU 0 has a total capacity of 139.83 GiB of which 11.56 MiB is free. Including non-PyTorch memory, this process has 139.80 GiB memory in use. Of the allocated memory 138.93 GiB is allocated by PyTorch, and 216.32 MiB is reserved by PyTorch but unallocated. If reserved but unallocated memory is large try setting PYTORCH_CUDA_ALLOC_CONF=expandable_segments:True to avoid fragmentation.  See documentation for Memory Management  (https://pytorch.org/docs/stable/notes/cuda.html#environment-variables)"
     ]
    }
   ],
   "source": [
    "act_patch_resid_pre = patching.get_act_patch_resid_pre(\n",
    "    model=model, corrupted_tokens=corrupted_tokens, clean_cache=clean_cache, patching_metric=ioi_metric\n",
    ")\n",
    "\n",
    "labels = [f\"{tok} {i}\" for i, tok in enumerate(model.to_str_tokens(clean_tokens[0]))]\n",
    "\n",
    "imshow(\n",
    "    act_patch_resid_pre,\n",
    "    labels={\"x\": \"Position\", \"y\": \"Layer\"},\n",
    "    x=labels,\n",
    "    title=\"resid_pre Activation Patching\",\n",
    "    width=700,\n",
    ")"
   ]
  },
  {
   "cell_type": "code",
   "execution_count": 2,
   "metadata": {},
   "outputs": [],
   "source": [
    "from nnsight import NNsight, LanguageModel, CONFIG\n",
    "CONFIG.set_default_api_key(os.getenv(\"NDIF_API_KEY\"))"
   ]
  },
  {
   "cell_type": "code",
   "execution_count": 3,
   "metadata": {},
   "outputs": [],
   "source": [
    "clean_prompt = \"\"\"Count the number of words in the following list that match the given type, and put the numerical answer in parentheses.\n",
    "Type: fruit\n",
    "List: [dog apple cherry bus cat grape bowl]\n",
    "Answer: (\"\"\"\n",
    "corrupted_prompt = \"\"\"Count the number of words in the following list that match the given type, and put the numerical answer in parentheses.\n",
    "Type: fruit\n",
    "List: [dog apple spoon bus cat grape bowl]\n",
    "Answer: (\"\"\"\n",
    "prompts = (clean_prompt, corrupted_prompt)\n",
    "\n",
    "answers = (\"3\", \"2\")"
   ]
  },
  {
   "cell_type": "code",
   "execution_count": 4,
   "metadata": {},
   "outputs": [
    {
     "data": {
      "application/vnd.jupyter.widget-view+json": {
       "model_id": "a6864fccb7c1439d81c8284070632ccf",
       "version_major": 2,
       "version_minor": 0
      },
      "text/plain": [
       "config.json:   0%|          | 0.00/826 [00:00<?, ?B/s]"
      ]
     },
     "metadata": {},
     "output_type": "display_data"
    },
    {
     "data": {
      "application/vnd.jupyter.widget-view+json": {
       "model_id": "b5f5aca19833433fa745695bbebfc450",
       "version_major": 2,
       "version_minor": 0
      },
      "text/plain": [
       "tokenizer_config.json:   0%|          | 0.00/50.5k [00:00<?, ?B/s]"
      ]
     },
     "metadata": {},
     "output_type": "display_data"
    },
    {
     "data": {
      "application/vnd.jupyter.widget-view+json": {
       "model_id": "d493e4689aae40e9a9036fd589653c87",
       "version_major": 2,
       "version_minor": 0
      },
      "text/plain": [
       "tokenizer.json:   0%|          | 0.00/9.09M [00:00<?, ?B/s]"
      ]
     },
     "metadata": {},
     "output_type": "display_data"
    },
    {
     "data": {
      "application/vnd.jupyter.widget-view+json": {
       "model_id": "c2cb1fb68a544833b2f622cb7085e558",
       "version_major": 2,
       "version_minor": 0
      },
      "text/plain": [
       "special_tokens_map.json:   0%|          | 0.00/301 [00:00<?, ?B/s]"
      ]
     },
     "metadata": {},
     "output_type": "display_data"
    }
   ],
   "source": [
    "model = LanguageModel(\"meta-llama/Meta-Llama-3.1-70B\", device_map=\"auto\")"
   ]
  },
  {
   "cell_type": "code",
   "execution_count": 5,
   "metadata": {},
   "outputs": [
    {
     "name": "stdout",
     "output_type": "stream",
     "text": [
      "tokens=tensor([[128000,   2568,    279,   1396,    315,   4339,    304,    279,   2768,\n",
      "           1160,    430,   2489,    279,   2728,    955,     11,    323,   2231,\n",
      "            279,  35876,   4320,    304,  75075,    627,    941,     25,  14098,\n",
      "            198,    861,     25,    510,  18964,  24149,  41980,   5951,   8415,\n",
      "          52252,  19763,    933,  16533,     25,    320],\n",
      "        [128000,   2568,    279,   1396,    315,   4339,    304,    279,   2768,\n",
      "           1160,    430,   2489,    279,   2728,    955,     11,    323,   2231,\n",
      "            279,  35876,   4320,    304,  75075,    627,    941,     25,  14098,\n",
      "            198,    861,     25,    510,  18964,  24149,  46605,   5951,   8415,\n",
      "          52252,  19763,    933,  16533,     25,    320]])\n"
     ]
    }
   ],
   "source": [
    "tokens = model.tokenizer(prompts, return_tensors=\"pt\")['input_ids']\n",
    "print(f\"{tokens=}\")\n",
    "correct_idx, incorrect_idx = [model.tokenizer(answer, add_special_tokens=False)['input_ids'][0] for answer in answers]"
   ]
  },
  {
   "cell_type": "code",
   "execution_count": 6,
   "metadata": {},
   "outputs": [
    {
     "data": {
      "application/vnd.jupyter.widget-view+json": {
       "model_id": "e631fdb4decb4fe2a4e0291b96cc7018",
       "version_major": 2,
       "version_minor": 0
      },
      "text/plain": [
       "model.safetensors.index.json:   0%|          | 0.00/59.6k [00:00<?, ?B/s]"
      ]
     },
     "metadata": {},
     "output_type": "display_data"
    },
    {
     "data": {
      "application/vnd.jupyter.widget-view+json": {
       "model_id": "e28c786309cb45f59908eb4894aeda4c",
       "version_major": 2,
       "version_minor": 0
      },
      "text/plain": [
       "Fetching 30 files:   0%|          | 0/30 [00:00<?, ?it/s]"
      ]
     },
     "metadata": {},
     "output_type": "display_data"
    },
    {
     "name": "stderr",
     "output_type": "stream",
     "text": [
      "Xet Storage is enabled for this repo, but the 'hf_xet' package is not installed. Falling back to regular HTTP download. For better performance, install the package with: `pip install huggingface_hub[hf_xet]` or `pip install hf_xet`\n",
      "Xet Storage is enabled for this repo, but the 'hf_xet' package is not installed. Falling back to regular HTTP download. For better performance, install the package with: `pip install huggingface_hub[hf_xet]` or `pip install hf_xet`\n",
      "Xet Storage is enabled for this repo, but the 'hf_xet' package is not installed. Falling back to regular HTTP download. For better performance, install the package with: `pip install huggingface_hub[hf_xet]` or `pip install hf_xet`\n",
      "Xet Storage is enabled for this repo, but the 'hf_xet' package is not installed. Falling back to regular HTTP download. For better performance, install the package with: `pip install huggingface_hub[hf_xet]` or `pip install hf_xet`\n",
      "Xet Storage is enabled for this repo, but the 'hf_xet' package is not installed. Falling back to regular HTTP download. For better performance, install the package with: `pip install huggingface_hub[hf_xet]` or `pip install hf_xet`\n",
      "Xet Storage is enabled for this repo, but the 'hf_xet' package is not installed. Falling back to regular HTTP download. For better performance, install the package with: `pip install huggingface_hub[hf_xet]` or `pip install hf_xet`\n",
      "Xet Storage is enabled for this repo, but the 'hf_xet' package is not installed. Falling back to regular HTTP download. For better performance, install the package with: `pip install huggingface_hub[hf_xet]` or `pip install hf_xet`\n",
      "Xet Storage is enabled for this repo, but the 'hf_xet' package is not installed. Falling back to regular HTTP download. For better performance, install the package with: `pip install huggingface_hub[hf_xet]` or `pip install hf_xet`\n"
     ]
    },
    {
     "data": {
      "application/vnd.jupyter.widget-view+json": {
       "model_id": "601f06327fa64ad49647a314a3c8792a",
       "version_major": 2,
       "version_minor": 0
      },
      "text/plain": [
       "model-00004-of-00030.safetensors:   0%|          | 0.00/4.97G [00:00<?, ?B/s]"
      ]
     },
     "metadata": {},
     "output_type": "display_data"
    },
    {
     "data": {
      "application/vnd.jupyter.widget-view+json": {
       "model_id": "ef9b3cda4c614673ab6a56efdbc7a62b",
       "version_major": 2,
       "version_minor": 0
      },
      "text/plain": [
       "model-00006-of-00030.safetensors:   0%|          | 0.00/4.66G [00:00<?, ?B/s]"
      ]
     },
     "metadata": {},
     "output_type": "display_data"
    },
    {
     "data": {
      "application/vnd.jupyter.widget-view+json": {
       "model_id": "04121a6205114bafb5409fb40d10f514",
       "version_major": 2,
       "version_minor": 0
      },
      "text/plain": [
       "model-00007-of-00030.safetensors:   0%|          | 0.00/4.66G [00:00<?, ?B/s]"
      ]
     },
     "metadata": {},
     "output_type": "display_data"
    },
    {
     "data": {
      "application/vnd.jupyter.widget-view+json": {
       "model_id": "66be12276655432eae29c575c9ae9fa2",
       "version_major": 2,
       "version_minor": 0
      },
      "text/plain": [
       "model-00003-of-00030.safetensors:   0%|          | 0.00/5.00G [00:00<?, ?B/s]"
      ]
     },
     "metadata": {},
     "output_type": "display_data"
    },
    {
     "data": {
      "application/vnd.jupyter.widget-view+json": {
       "model_id": "aa10e5920c10437688828d7d86dd66aa",
       "version_major": 2,
       "version_minor": 0
      },
      "text/plain": [
       "model-00001-of-00030.safetensors:   0%|          | 0.00/4.58G [00:00<?, ?B/s]"
      ]
     },
     "metadata": {},
     "output_type": "display_data"
    },
    {
     "data": {
      "application/vnd.jupyter.widget-view+json": {
       "model_id": "3a69384ea7de4bd98a1e2604626a5adf",
       "version_major": 2,
       "version_minor": 0
      },
      "text/plain": [
       "model-00002-of-00030.safetensors:   0%|          | 0.00/4.66G [00:00<?, ?B/s]"
      ]
     },
     "metadata": {},
     "output_type": "display_data"
    },
    {
     "data": {
      "application/vnd.jupyter.widget-view+json": {
       "model_id": "25b46dbacff64e27a4f3068df736ce79",
       "version_major": 2,
       "version_minor": 0
      },
      "text/plain": [
       "model-00005-of-00030.safetensors:   0%|          | 0.00/4.66G [00:00<?, ?B/s]"
      ]
     },
     "metadata": {},
     "output_type": "display_data"
    },
    {
     "data": {
      "application/vnd.jupyter.widget-view+json": {
       "model_id": "b33d55934114411ba159170f39cad240",
       "version_major": 2,
       "version_minor": 0
      },
      "text/plain": [
       "model-00008-of-00030.safetensors:   0%|          | 0.00/5.00G [00:00<?, ?B/s]"
      ]
     },
     "metadata": {},
     "output_type": "display_data"
    },
    {
     "name": "stderr",
     "output_type": "stream",
     "text": [
      "Xet Storage is enabled for this repo, but the 'hf_xet' package is not installed. Falling back to regular HTTP download. For better performance, install the package with: `pip install huggingface_hub[hf_xet]` or `pip install hf_xet`\n"
     ]
    },
    {
     "data": {
      "application/vnd.jupyter.widget-view+json": {
       "model_id": "015b13ad6ba747cf84915c0af727b330",
       "version_major": 2,
       "version_minor": 0
      },
      "text/plain": [
       "model-00009-of-00030.safetensors:   0%|          | 0.00/4.97G [00:00<?, ?B/s]"
      ]
     },
     "metadata": {},
     "output_type": "display_data"
    },
    {
     "name": "stderr",
     "output_type": "stream",
     "text": [
      "Xet Storage is enabled for this repo, but the 'hf_xet' package is not installed. Falling back to regular HTTP download. For better performance, install the package with: `pip install huggingface_hub[hf_xet]` or `pip install hf_xet`\n"
     ]
    },
    {
     "data": {
      "application/vnd.jupyter.widget-view+json": {
       "model_id": "5d11d4e9682f405b8ebe5729b20c5b7b",
       "version_major": 2,
       "version_minor": 0
      },
      "text/plain": [
       "model-00010-of-00030.safetensors:   0%|          | 0.00/4.66G [00:00<?, ?B/s]"
      ]
     },
     "metadata": {},
     "output_type": "display_data"
    },
    {
     "name": "stderr",
     "output_type": "stream",
     "text": [
      "Xet Storage is enabled for this repo, but the 'hf_xet' package is not installed. Falling back to regular HTTP download. For better performance, install the package with: `pip install huggingface_hub[hf_xet]` or `pip install hf_xet`\n"
     ]
    },
    {
     "data": {
      "application/vnd.jupyter.widget-view+json": {
       "model_id": "8ec3d5f359e849548dcf26981e5cf671",
       "version_major": 2,
       "version_minor": 0
      },
      "text/plain": [
       "model-00011-of-00030.safetensors:   0%|          | 0.00/4.66G [00:00<?, ?B/s]"
      ]
     },
     "metadata": {},
     "output_type": "display_data"
    },
    {
     "name": "stderr",
     "output_type": "stream",
     "text": [
      "Xet Storage is enabled for this repo, but the 'hf_xet' package is not installed. Falling back to regular HTTP download. For better performance, install the package with: `pip install huggingface_hub[hf_xet]` or `pip install hf_xet`\n"
     ]
    },
    {
     "data": {
      "application/vnd.jupyter.widget-view+json": {
       "model_id": "900958a7406e46bcbf275f1414951732",
       "version_major": 2,
       "version_minor": 0
      },
      "text/plain": [
       "model-00012-of-00030.safetensors:   0%|          | 0.00/4.66G [00:00<?, ?B/s]"
      ]
     },
     "metadata": {},
     "output_type": "display_data"
    },
    {
     "name": "stderr",
     "output_type": "stream",
     "text": [
      "Xet Storage is enabled for this repo, but the 'hf_xet' package is not installed. Falling back to regular HTTP download. For better performance, install the package with: `pip install huggingface_hub[hf_xet]` or `pip install hf_xet`\n"
     ]
    },
    {
     "data": {
      "application/vnd.jupyter.widget-view+json": {
       "model_id": "e8a64d88567d45468c751302cace0d7c",
       "version_major": 2,
       "version_minor": 0
      },
      "text/plain": [
       "model-00013-of-00030.safetensors:   0%|          | 0.00/5.00G [00:00<?, ?B/s]"
      ]
     },
     "metadata": {},
     "output_type": "display_data"
    },
    {
     "name": "stderr",
     "output_type": "stream",
     "text": [
      "Xet Storage is enabled for this repo, but the 'hf_xet' package is not installed. Falling back to regular HTTP download. For better performance, install the package with: `pip install huggingface_hub[hf_xet]` or `pip install hf_xet`\n"
     ]
    },
    {
     "data": {
      "application/vnd.jupyter.widget-view+json": {
       "model_id": "2b0bd51229e34947859e6d6b7bd50e73",
       "version_major": 2,
       "version_minor": 0
      },
      "text/plain": [
       "model-00014-of-00030.safetensors:   0%|          | 0.00/4.97G [00:00<?, ?B/s]"
      ]
     },
     "metadata": {},
     "output_type": "display_data"
    },
    {
     "name": "stderr",
     "output_type": "stream",
     "text": [
      "Xet Storage is enabled for this repo, but the 'hf_xet' package is not installed. Falling back to regular HTTP download. For better performance, install the package with: `pip install huggingface_hub[hf_xet]` or `pip install hf_xet`\n"
     ]
    },
    {
     "data": {
      "application/vnd.jupyter.widget-view+json": {
       "model_id": "efc3fa018c0f46318ff4f691c244c46d",
       "version_major": 2,
       "version_minor": 0
      },
      "text/plain": [
       "model-00015-of-00030.safetensors:   0%|          | 0.00/4.66G [00:00<?, ?B/s]"
      ]
     },
     "metadata": {},
     "output_type": "display_data"
    },
    {
     "name": "stderr",
     "output_type": "stream",
     "text": [
      "Xet Storage is enabled for this repo, but the 'hf_xet' package is not installed. Falling back to regular HTTP download. For better performance, install the package with: `pip install huggingface_hub[hf_xet]` or `pip install hf_xet`\n"
     ]
    },
    {
     "data": {
      "application/vnd.jupyter.widget-view+json": {
       "model_id": "9ee015309e6f4f24b6480940a1ba8b27",
       "version_major": 2,
       "version_minor": 0
      },
      "text/plain": [
       "model-00016-of-00030.safetensors:   0%|          | 0.00/4.66G [00:00<?, ?B/s]"
      ]
     },
     "metadata": {},
     "output_type": "display_data"
    },
    {
     "name": "stderr",
     "output_type": "stream",
     "text": [
      "Xet Storage is enabled for this repo, but the 'hf_xet' package is not installed. Falling back to regular HTTP download. For better performance, install the package with: `pip install huggingface_hub[hf_xet]` or `pip install hf_xet`\n"
     ]
    },
    {
     "data": {
      "application/vnd.jupyter.widget-view+json": {
       "model_id": "e99d803f50e04f2ca3e1359600a544e1",
       "version_major": 2,
       "version_minor": 0
      },
      "text/plain": [
       "model-00017-of-00030.safetensors:   0%|          | 0.00/4.66G [00:00<?, ?B/s]"
      ]
     },
     "metadata": {},
     "output_type": "display_data"
    },
    {
     "name": "stderr",
     "output_type": "stream",
     "text": [
      "Xet Storage is enabled for this repo, but the 'hf_xet' package is not installed. Falling back to regular HTTP download. For better performance, install the package with: `pip install huggingface_hub[hf_xet]` or `pip install hf_xet`\n"
     ]
    },
    {
     "data": {
      "application/vnd.jupyter.widget-view+json": {
       "model_id": "2ef4b6ffc14345c1a4bb934a52d56652",
       "version_major": 2,
       "version_minor": 0
      },
      "text/plain": [
       "model-00018-of-00030.safetensors:   0%|          | 0.00/5.00G [00:00<?, ?B/s]"
      ]
     },
     "metadata": {},
     "output_type": "display_data"
    },
    {
     "name": "stderr",
     "output_type": "stream",
     "text": [
      "Xet Storage is enabled for this repo, but the 'hf_xet' package is not installed. Falling back to regular HTTP download. For better performance, install the package with: `pip install huggingface_hub[hf_xet]` or `pip install hf_xet`\n"
     ]
    },
    {
     "data": {
      "application/vnd.jupyter.widget-view+json": {
       "model_id": "b567c341d4884f1885264638688115a5",
       "version_major": 2,
       "version_minor": 0
      },
      "text/plain": [
       "model-00019-of-00030.safetensors:   0%|          | 0.00/4.97G [00:00<?, ?B/s]"
      ]
     },
     "metadata": {},
     "output_type": "display_data"
    },
    {
     "name": "stderr",
     "output_type": "stream",
     "text": [
      "Xet Storage is enabled for this repo, but the 'hf_xet' package is not installed. Falling back to regular HTTP download. For better performance, install the package with: `pip install huggingface_hub[hf_xet]` or `pip install hf_xet`\n"
     ]
    },
    {
     "data": {
      "application/vnd.jupyter.widget-view+json": {
       "model_id": "30e6dcf5379d4d76a51e08dc95cf5a66",
       "version_major": 2,
       "version_minor": 0
      },
      "text/plain": [
       "model-00020-of-00030.safetensors:   0%|          | 0.00/4.66G [00:00<?, ?B/s]"
      ]
     },
     "metadata": {},
     "output_type": "display_data"
    },
    {
     "name": "stderr",
     "output_type": "stream",
     "text": [
      "Xet Storage is enabled for this repo, but the 'hf_xet' package is not installed. Falling back to regular HTTP download. For better performance, install the package with: `pip install huggingface_hub[hf_xet]` or `pip install hf_xet`\n"
     ]
    },
    {
     "data": {
      "application/vnd.jupyter.widget-view+json": {
       "model_id": "51a17474c9694ac89be3aa1f56126a7a",
       "version_major": 2,
       "version_minor": 0
      },
      "text/plain": [
       "model-00021-of-00030.safetensors:   0%|          | 0.00/4.66G [00:00<?, ?B/s]"
      ]
     },
     "metadata": {},
     "output_type": "display_data"
    },
    {
     "name": "stderr",
     "output_type": "stream",
     "text": [
      "Xet Storage is enabled for this repo, but the 'hf_xet' package is not installed. Falling back to regular HTTP download. For better performance, install the package with: `pip install huggingface_hub[hf_xet]` or `pip install hf_xet`\n",
      "Xet Storage is enabled for this repo, but the 'hf_xet' package is not installed. Falling back to regular HTTP download. For better performance, install the package with: `pip install huggingface_hub[hf_xet]` or `pip install hf_xet`\n"
     ]
    },
    {
     "data": {
      "application/vnd.jupyter.widget-view+json": {
       "model_id": "827a01f51aa74a46b996b34101a72832",
       "version_major": 2,
       "version_minor": 0
      },
      "text/plain": [
       "model-00022-of-00030.safetensors:   0%|          | 0.00/4.66G [00:00<?, ?B/s]"
      ]
     },
     "metadata": {},
     "output_type": "display_data"
    },
    {
     "data": {
      "application/vnd.jupyter.widget-view+json": {
       "model_id": "d90a1ca2731f4b728380298eb75a6d62",
       "version_major": 2,
       "version_minor": 0
      },
      "text/plain": [
       "model-00023-of-00030.safetensors:   0%|          | 0.00/5.00G [00:00<?, ?B/s]"
      ]
     },
     "metadata": {},
     "output_type": "display_data"
    },
    {
     "name": "stderr",
     "output_type": "stream",
     "text": [
      "Xet Storage is enabled for this repo, but the 'hf_xet' package is not installed. Falling back to regular HTTP download. For better performance, install the package with: `pip install huggingface_hub[hf_xet]` or `pip install hf_xet`\n"
     ]
    },
    {
     "data": {
      "application/vnd.jupyter.widget-view+json": {
       "model_id": "c8d7a6013f95495e932b9eca527242b7",
       "version_major": 2,
       "version_minor": 0
      },
      "text/plain": [
       "model-00024-of-00030.safetensors:   0%|          | 0.00/4.97G [00:00<?, ?B/s]"
      ]
     },
     "metadata": {},
     "output_type": "display_data"
    },
    {
     "name": "stderr",
     "output_type": "stream",
     "text": [
      "Xet Storage is enabled for this repo, but the 'hf_xet' package is not installed. Falling back to regular HTTP download. For better performance, install the package with: `pip install huggingface_hub[hf_xet]` or `pip install hf_xet`\n"
     ]
    },
    {
     "data": {
      "application/vnd.jupyter.widget-view+json": {
       "model_id": "96b3a769e302460c97c402873e72cfdb",
       "version_major": 2,
       "version_minor": 0
      },
      "text/plain": [
       "model-00025-of-00030.safetensors:   0%|          | 0.00/4.66G [00:00<?, ?B/s]"
      ]
     },
     "metadata": {},
     "output_type": "display_data"
    },
    {
     "name": "stderr",
     "output_type": "stream",
     "text": [
      "Xet Storage is enabled for this repo, but the 'hf_xet' package is not installed. Falling back to regular HTTP download. For better performance, install the package with: `pip install huggingface_hub[hf_xet]` or `pip install hf_xet`\n"
     ]
    },
    {
     "data": {
      "application/vnd.jupyter.widget-view+json": {
       "model_id": "5cfd252b819f4a56a392722d47a976cb",
       "version_major": 2,
       "version_minor": 0
      },
      "text/plain": [
       "model-00026-of-00030.safetensors:   0%|          | 0.00/4.66G [00:00<?, ?B/s]"
      ]
     },
     "metadata": {},
     "output_type": "display_data"
    },
    {
     "name": "stderr",
     "output_type": "stream",
     "text": [
      "Xet Storage is enabled for this repo, but the 'hf_xet' package is not installed. Falling back to regular HTTP download. For better performance, install the package with: `pip install huggingface_hub[hf_xet]` or `pip install hf_xet`\n"
     ]
    },
    {
     "data": {
      "application/vnd.jupyter.widget-view+json": {
       "model_id": "b934b59692c04b7c938ac2a862373263",
       "version_major": 2,
       "version_minor": 0
      },
      "text/plain": [
       "model-00027-of-00030.safetensors:   0%|          | 0.00/4.66G [00:00<?, ?B/s]"
      ]
     },
     "metadata": {},
     "output_type": "display_data"
    },
    {
     "name": "stderr",
     "output_type": "stream",
     "text": [
      "Xet Storage is enabled for this repo, but the 'hf_xet' package is not installed. Falling back to regular HTTP download. For better performance, install the package with: `pip install huggingface_hub[hf_xet]` or `pip install hf_xet`\n"
     ]
    },
    {
     "data": {
      "application/vnd.jupyter.widget-view+json": {
       "model_id": "0765852c7d454e52a0d1380d809b3afb",
       "version_major": 2,
       "version_minor": 0
      },
      "text/plain": [
       "model-00028-of-00030.safetensors:   0%|          | 0.00/5.00G [00:00<?, ?B/s]"
      ]
     },
     "metadata": {},
     "output_type": "display_data"
    },
    {
     "name": "stderr",
     "output_type": "stream",
     "text": [
      "Xet Storage is enabled for this repo, but the 'hf_xet' package is not installed. Falling back to regular HTTP download. For better performance, install the package with: `pip install huggingface_hub[hf_xet]` or `pip install hf_xet`\n"
     ]
    },
    {
     "data": {
      "application/vnd.jupyter.widget-view+json": {
       "model_id": "7dc155b5ecb147298f3eb8b0002ad502",
       "version_major": 2,
       "version_minor": 0
      },
      "text/plain": [
       "model-00029-of-00030.safetensors:   0%|          | 0.00/4.97G [00:00<?, ?B/s]"
      ]
     },
     "metadata": {},
     "output_type": "display_data"
    },
    {
     "name": "stderr",
     "output_type": "stream",
     "text": [
      "Xet Storage is enabled for this repo, but the 'hf_xet' package is not installed. Falling back to regular HTTP download. For better performance, install the package with: `pip install huggingface_hub[hf_xet]` or `pip install hf_xet`\n"
     ]
    },
    {
     "data": {
      "application/vnd.jupyter.widget-view+json": {
       "model_id": "68a871e83273449d8890e555bffbcd19",
       "version_major": 2,
       "version_minor": 0
      },
      "text/plain": [
       "model-00030-of-00030.safetensors:   0%|          | 0.00/2.10G [00:00<?, ?B/s]"
      ]
     },
     "metadata": {},
     "output_type": "display_data"
    },
    {
     "data": {
      "application/vnd.jupyter.widget-view+json": {
       "model_id": "d00d32c5f87c4cc5b3afd04c4d6d8889",
       "version_major": 2,
       "version_minor": 0
      },
      "text/plain": [
       "Loading checkpoint shards:   0%|          | 0/30 [00:00<?, ?it/s]"
      ]
     },
     "metadata": {},
     "output_type": "display_data"
    },
    {
     "data": {
      "application/vnd.jupyter.widget-view+json": {
       "model_id": "9e88d0ea0ae241c486fb11280e195e10",
       "version_major": 2,
       "version_minor": 0
      },
      "text/plain": [
       "generation_config.json:   0%|          | 0.00/185 [00:00<?, ?B/s]"
      ]
     },
     "metadata": {},
     "output_type": "display_data"
    }
   ],
   "source": [
    "N_LAYERS = len(model.model.layers)\n",
    "with model.trace(clean_prompt) as tracer:\n",
    "    clean_hs = [model.model.layers[layer_idx].output[0].save() for layer_idx in range(N_LAYERS)]\n",
    "    clean_logits = model.lm_head.output\n",
    "\n",
    "        # Calculate the difference between the correct answer and incorrect answer for the clean run and save it.\n",
    "    clean_logit_diff = (clean_logits[0, -1, correct_idx] - clean_logits[0, -1, incorrect_idx]).save()"
   ]
  },
  {
   "cell_type": "code",
   "execution_count": 8,
   "metadata": {},
   "outputs": [],
   "source": [
    "with model.trace(corrupted_prompt) as tracer:\n",
    "    corrupted_logits = model.lm_head.output\n",
    "\n",
    "        # Calculate the difference between the correct answer and incorrect answer for the corrupted run.\n",
    "    corrupted_logit_diff = (corrupted_logits[0, -1, correct_idx] - corrupted_logits[0, -1, incorrect_idx]).save()"
   ]
  },
  {
   "cell_type": "code",
   "execution_count": 9,
   "metadata": {},
   "outputs": [
    {
     "name": "stderr",
     "output_type": "stream",
     "text": [
      "100%|██████████| 80/80 [00:09<00:00,  8.22it/s]\n",
      "You're using a PreTrainedTokenizerFast tokenizer. Please note that with a fast tokenizer, using the `__call__` method is faster than using a method to encode the text followed by a call to the `pad` method to get a padded encoding.\n"
     ]
    },
    {
     "ename": "NNsightError",
     "evalue": "CUDA out of memory. Tried to allocate 15.07 GiB. GPU 0 has a total capacity of 139.81 GiB of which 12.57 GiB is free. Process 349837 has 127.23 GiB memory in use. Of the allocated memory 124.99 GiB is allocated by PyTorch, and 1.57 GiB is reserved by PyTorch but unallocated. If reserved but unallocated memory is large try setting PYTORCH_CUDA_ALLOC_CONF=expandable_segments:True to avoid fragmentation.  See documentation for Memory Management  (https://pytorch.org/docs/stable/notes/cuda.html#environment-variables)",
     "output_type": "error",
     "traceback": [
      "Traceback (most recent call last):",
      "  File \"/venv/main/lib/python3.12/site-packages/nnsight/tracing/graph/node.py\", line 289, in execute",
      "    self.target.execute(self)",
      "  File \"/venv/main/lib/python3.12/site-packages/nnsight/intervention/contexts/interleaving.py\", line 161, in execute",
      "    graph.model.interleave(interleaver, *invoker_args, fn=method,**kwargs, **invoker_kwargs)",
      "  File \"/venv/main/lib/python3.12/site-packages/nnsight/modeling/mixins/meta.py\", line 52, in interleave",
      "    return super().interleave(*args, **kwargs)",
      "           ^^^^^^^^^^^^^^^^^^^^^^^^^^^^^^^^^^^",
      "  File \"/venv/main/lib/python3.12/site-packages/nnsight/intervention/base.py\", line 341, in interleave",
      "    with interleaver:",
      "  File \"/venv/main/lib/python3.12/site-packages/nnsight/intervention/interleaver.py\", line 129, in __exit__",
      "    raise exc_val",
      "  File \"/venv/main/lib/python3.12/site-packages/nnsight/intervention/base.py\", line 342, in interleave",
      "    return fn(*args, **kwargs)",
      "           ^^^^^^^^^^^^^^^^^^^",
      "  File \"/venv/main/lib/python3.12/site-packages/nnsight/modeling/language.py\", line 297, in _execute",
      "    return self._model(",
      "           ^^^^^^^^^^^^",
      "  File \"/venv/main/lib/python3.12/site-packages/torch/nn/modules/module.py\", line 1751, in _wrapped_call_impl",
      "    return self._call_impl(*args, **kwargs)",
      "           ^^^^^^^^^^^^^^^^^^^^^^^^^^^^^^^^",
      "  File \"/venv/main/lib/python3.12/site-packages/torch/nn/modules/module.py\", line 1857, in _call_impl",
      "    return inner()",
      "           ^^^^^^^",
      "  File \"/venv/main/lib/python3.12/site-packages/torch/nn/modules/module.py\", line 1805, in inner",
      "    result = forward_call(*args, **kwargs)",
      "             ^^^^^^^^^^^^^^^^^^^^^^^^^^^^^",
      "  File \"/venv/main/lib/python3.12/site-packages/accelerate/hooks.py\", line 175, in new_forward",
      "    output = module._old_forward(*args, **kwargs)",
      "             ^^^^^^^^^^^^^^^^^^^^^^^^^^^^^^^^^^^^",
      "  File \"/venv/main/lib/python3.12/site-packages/transformers/utils/generic.py\", line 969, in wrapper",
      "    output = func(self, *args, **kwargs)",
      "             ^^^^^^^^^^^^^^^^^^^^^^^^^^^",
      "  File \"/venv/main/lib/python3.12/site-packages/transformers/models/llama/modeling_llama.py\", line 688, in forward",
      "    outputs: BaseModelOutputWithPast = self.model(",
      "                                       ^^^^^^^^^^^",
      "  File \"/venv/main/lib/python3.12/site-packages/torch/nn/modules/module.py\", line 1751, in _wrapped_call_impl",
      "    return self._call_impl(*args, **kwargs)",
      "           ^^^^^^^^^^^^^^^^^^^^^^^^^^^^^^^^",
      "  File \"/venv/main/lib/python3.12/site-packages/torch/nn/modules/module.py\", line 1857, in _call_impl",
      "    return inner()",
      "           ^^^^^^^",
      "  File \"/venv/main/lib/python3.12/site-packages/torch/nn/modules/module.py\", line 1805, in inner",
      "    result = forward_call(*args, **kwargs)",
      "             ^^^^^^^^^^^^^^^^^^^^^^^^^^^^^",
      "  File \"/venv/main/lib/python3.12/site-packages/transformers/utils/generic.py\", line 969, in wrapper",
      "    output = func(self, *args, **kwargs)",
      "             ^^^^^^^^^^^^^^^^^^^^^^^^^^^",
      "  File \"/venv/main/lib/python3.12/site-packages/transformers/models/llama/modeling_llama.py\", line 453, in forward",
      "    layer_outputs = decoder_layer(",
      "                    ^^^^^^^^^^^^^^",
      "  File \"/venv/main/lib/python3.12/site-packages/transformers/modeling_layers.py\", line 48, in __call__",
      "    return super().__call__(*args, **kwargs)",
      "           ^^^^^^^^^^^^^^^^^^^^^^^^^^^^^^^^^",
      "  File \"/venv/main/lib/python3.12/site-packages/torch/nn/modules/module.py\", line 1751, in _wrapped_call_impl",
      "    return self._call_impl(*args, **kwargs)",
      "           ^^^^^^^^^^^^^^^^^^^^^^^^^^^^^^^^",
      "  File \"/venv/main/lib/python3.12/site-packages/torch/nn/modules/module.py\", line 1857, in _call_impl",
      "    return inner()",
      "           ^^^^^^^",
      "  File \"/venv/main/lib/python3.12/site-packages/torch/nn/modules/module.py\", line 1805, in inner",
      "    result = forward_call(*args, **kwargs)",
      "             ^^^^^^^^^^^^^^^^^^^^^^^^^^^^^",
      "  File \"/venv/main/lib/python3.12/site-packages/accelerate/hooks.py\", line 175, in new_forward",
      "    output = module._old_forward(*args, **kwargs)",
      "             ^^^^^^^^^^^^^^^^^^^^^^^^^^^^^^^^^^^^",
      "  File \"/venv/main/lib/python3.12/site-packages/transformers/models/llama/modeling_llama.py\", line 324, in forward",
      "    hidden_states = self.mlp(hidden_states)",
      "                    ^^^^^^^^^^^^^^^^^^^^^^^",
      "  File \"/venv/main/lib/python3.12/site-packages/torch/nn/modules/module.py\", line 1751, in _wrapped_call_impl",
      "    return self._call_impl(*args, **kwargs)",
      "           ^^^^^^^^^^^^^^^^^^^^^^^^^^^^^^^^",
      "  File \"/venv/main/lib/python3.12/site-packages/torch/nn/modules/module.py\", line 1857, in _call_impl",
      "    return inner()",
      "           ^^^^^^^",
      "  File \"/venv/main/lib/python3.12/site-packages/torch/nn/modules/module.py\", line 1805, in inner",
      "    result = forward_call(*args, **kwargs)",
      "             ^^^^^^^^^^^^^^^^^^^^^^^^^^^^^",
      "  File \"/venv/main/lib/python3.12/site-packages/accelerate/hooks.py\", line 175, in new_forward",
      "    output = module._old_forward(*args, **kwargs)",
      "             ^^^^^^^^^^^^^^^^^^^^^^^^^^^^^^^^^^^^",
      "  File \"/venv/main/lib/python3.12/site-packages/transformers/models/llama/modeling_llama.py\", line 162, in forward",
      "    down_proj = self.down_proj(self.act_fn(self.gate_proj(x)) * self.up_proj(x))",
      "                               ^^^^^^^^^^^^^^^^^^^^^^^^^^^^^^",
      "  File \"/venv/main/lib/python3.12/site-packages/torch/nn/modules/module.py\", line 1751, in _wrapped_call_impl",
      "    return self._call_impl(*args, **kwargs)",
      "           ^^^^^^^^^^^^^^^^^^^^^^^^^^^^^^^^",
      "  File \"/venv/main/lib/python3.12/site-packages/torch/nn/modules/module.py\", line 1857, in _call_impl",
      "    return inner()",
      "           ^^^^^^^",
      "  File \"/venv/main/lib/python3.12/site-packages/torch/nn/modules/module.py\", line 1805, in inner",
      "    result = forward_call(*args, **kwargs)",
      "             ^^^^^^^^^^^^^^^^^^^^^^^^^^^^^",
      "  File \"/venv/main/lib/python3.12/site-packages/torch/nn/modules/activation.py\", line 432, in forward",
      "    return F.silu(input, inplace=self.inplace)",
      "           ^^^^^^^^^^^^^^^^^^^^^^^^^^^^^^^^^^^",
      "  File \"/venv/main/lib/python3.12/site-packages/torch/nn/functional.py\", line 2380, in silu",
      "    return torch._C._nn.silu(input)",
      "           ^^^^^^^^^^^^^^^^^^^^^^^^",
      "torch.OutOfMemoryError: CUDA out of memory. Tried to allocate 15.07 GiB. GPU 0 has a total capacity of 139.81 GiB of which 12.57 GiB is free. Process 349837 has 127.23 GiB memory in use. Of the allocated memory 124.99 GiB is allocated by PyTorch, and 1.57 GiB is reserved by PyTorch but unallocated. If reserved but unallocated memory is large try setting PYTORCH_CUDA_ALLOC_CONF=expandable_segments:True to avoid fragmentation.  See documentation for Memory Management  (https://pytorch.org/docs/stable/notes/cuda.html#environment-variables)",
      "",
      "During handling of the above exception, another exception occurred:",
      "",
      "Traceback (most recent call last):",
      "  File \"<frozen runpy>\", line 198, in _run_module_as_main",
      "    ",
      "  File \"<frozen runpy>\", line 88, in _run_code",
      "    ",
      "",
      "NNsightError: CUDA out of memory. Tried to allocate 15.07 GiB. GPU 0 has a total capacity of 139.81 GiB of which 12.57 GiB is free. Process 349837 has 127.23 GiB memory in use. Of the allocated memory 124.99 GiB is allocated by PyTorch, and 1.57 GiB is reserved by PyTorch but unallocated. If reserved but unallocated memory is large try setting PYTORCH_CUDA_ALLOC_CONF=expandable_segments:True to avoid fragmentation.  See documentation for Memory Management  (https://pytorch.org/docs/stable/notes/cuda.html#environment-variables)"
     ]
    }
   ],
   "source": [
    "ioi_patching_results = []\n",
    "with model.trace() as tracer:\n",
    "    for layer_idx in tqdm(range(N_LAYERS)):\n",
    "        _ioi_patching_results = []\n",
    "\n",
    "        # Iterate through all tokens\n",
    "        for token_idx in range(len(tokens[-1])):\n",
    "            # Patching corrupted run at given layer and token\n",
    "            with tracer.invoke(corrupted_prompt) as invoker:\n",
    "                # Apply the patch from the clean hidden states to the corrupted hidden states.\n",
    "                model.model.layers[layer_idx].output[0][:, token_idx, :] = clean_hs[layer_idx][:, token_idx, :]\n",
    "\n",
    "                patched_logits = model.lm_head.output\n",
    "\n",
    "                patched_logit_diff = (\n",
    "                    patched_logits[0, -1, correct_idx]\n",
    "                    - patched_logits[0, -1, incorrect_idx]\n",
    "                )\n",
    "\n",
    "                # Calculate the improvement in the correct token after patching.\n",
    "                patched_result = (patched_logit_diff - corrupted_logit_diff) / (\n",
    "                    clean_logit_diff - corrupted_logit_diff\n",
    "                )\n",
    "\n",
    "                _ioi_patching_results.append(patched_result.item().save())\n",
    "\n",
    "        ioi_patching_results.append(_ioi_patching_results)"
   ]
  },
  {
   "cell_type": "code",
   "execution_count": null,
   "metadata": {},
   "outputs": [],
   "source": []
  }
 ],
 "metadata": {
  "kernelspec": {
   "display_name": "main",
   "language": "python",
   "name": "python3"
  },
  "language_info": {
   "codemirror_mode": {
    "name": "ipython",
    "version": 3
   },
   "file_extension": ".py",
   "mimetype": "text/x-python",
   "name": "python",
   "nbconvert_exporter": "python",
   "pygments_lexer": "ipython3",
   "version": "3.12.3"
  }
 },
 "nbformat": 4,
 "nbformat_minor": 2
}
